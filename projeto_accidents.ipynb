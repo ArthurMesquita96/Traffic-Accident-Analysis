{
 "cells": [
  {
   "cell_type": "markdown",
   "metadata": {},
   "source": [
    "## Imports"
   ]
  },
  {
   "cell_type": "code",
   "execution_count": 1,
   "metadata": {},
   "outputs": [
    {
     "name": "stderr",
     "output_type": "stream",
     "text": [
      "/home/arthur/venv/trabalho-pyspark-env/lib/python3.12/site-packages/tqdm/auto.py:21: TqdmWarning: IProgress not found. Please update jupyter and ipywidgets. See https://ipywidgets.readthedocs.io/en/stable/user_install.html\n",
      "  from .autonotebook import tqdm as notebook_tqdm\n"
     ]
    }
   ],
   "source": [
    "import kagglehub\n",
    "\n",
    "from matplotlib import pyplot as plt\n",
    "import seaborn as sns\n",
    "\n",
    "from pyspark.sql import SparkSession\n",
    "from pyspark.sql.functions import col, count, when, hour, date_format"
   ]
  },
  {
   "cell_type": "markdown",
   "metadata": {},
   "source": [
    "## Carregando Dados"
   ]
  },
  {
   "cell_type": "code",
   "execution_count": 2,
   "metadata": {},
   "outputs": [
    {
     "name": "stderr",
     "output_type": "stream",
     "text": [
      "25/01/16 20:50:29 WARN Utils: Your hostname, notebook resolves to a loopback address: 127.0.1.1; using 192.168.18.27 instead (on interface wlp2s0)\n",
      "25/01/16 20:50:30 WARN Utils: Set SPARK_LOCAL_IP if you need to bind to another address\n",
      "Setting default log level to \"WARN\".\n",
      "To adjust logging level use sc.setLogLevel(newLevel). For SparkR, use setLogLevel(newLevel).\n",
      "25/01/16 20:50:33 WARN NativeCodeLoader: Unable to load native-hadoop library for your platform... using builtin-java classes where applicable\n"
     ]
    }
   ],
   "source": [
    "\n",
    "spark = SparkSession.builder.appName('Exemplo2').config(\"spark.executor.cores\", \"4\").getOrCreate()"
   ]
  },
  {
   "cell_type": "code",
   "execution_count": null,
   "metadata": {},
   "outputs": [
    {
     "name": "stderr",
     "output_type": "stream",
     "text": [
      "ERROR:root:KeyboardInterrupt while sending command.                (8 + 8) / 23]\n",
      "Traceback (most recent call last):\n",
      "  File \"/home/arthur/venv/trabalho-pyspark-env/lib/python3.12/site-packages/py4j/java_gateway.py\", line 1038, in send_command\n",
      "    response = connection.send_command(command)\n",
      "               ^^^^^^^^^^^^^^^^^^^^^^^^^^^^^^^^\n",
      "  File \"/home/arthur/venv/trabalho-pyspark-env/lib/python3.12/site-packages/py4j/clientserver.py\", line 511, in send_command\n",
      "    answer = smart_decode(self.stream.readline()[:-1])\n",
      "                          ^^^^^^^^^^^^^^^^^^^^^^\n",
      "  File \"/usr/lib/python3.12/socket.py\", line 707, in readinto\n",
      "    return self._sock.recv_into(b)\n",
      "           ^^^^^^^^^^^^^^^^^^^^^^^\n",
      "KeyboardInterrupt\n"
     ]
    },
    {
     "ename": "KeyboardInterrupt",
     "evalue": "",
     "output_type": "error",
     "traceback": [
      "\u001b[0;31m---------------------------------------------------------------------------\u001b[0m",
      "\u001b[0;31mKeyboardInterrupt\u001b[0m                         Traceback (most recent call last)",
      "Cell \u001b[0;32mIn[3], line 5\u001b[0m\n\u001b[1;32m      1\u001b[0m \u001b[38;5;66;03m# Download latest version\u001b[39;00m\n\u001b[1;32m      2\u001b[0m \u001b[38;5;66;03m# path = kagglehub.dataset_download(\"sobhanmoosavi/us-accidents\")\u001b[39;00m\n\u001b[1;32m      3\u001b[0m \u001b[38;5;66;03m# print(\"Path to dataset files:\", path)\u001b[39;00m\n\u001b[0;32m----> 5\u001b[0m df \u001b[38;5;241m=\u001b[39m \u001b[43mspark\u001b[49m\u001b[38;5;241;43m.\u001b[39;49m\u001b[43mread\u001b[49m\u001b[38;5;241;43m.\u001b[39;49m\u001b[43mcsv\u001b[49m\u001b[43m(\u001b[49m\u001b[38;5;124;43m'\u001b[39;49m\u001b[38;5;124;43m/home/arthur/.cache/kagglehub/datasets/sobhanmoosavi/us-accidents/versions/13/US_Accidents_March23.csv\u001b[39;49m\u001b[38;5;124;43m'\u001b[39;49m\u001b[43m,\u001b[49m\u001b[43m \u001b[49m\u001b[43mheader\u001b[49m\u001b[38;5;241;43m=\u001b[39;49m\u001b[38;5;28;43;01mTrue\u001b[39;49;00m\u001b[43m,\u001b[49m\u001b[43m \u001b[49m\u001b[43minferSchema\u001b[49m\u001b[38;5;241;43m=\u001b[39;49m\u001b[38;5;28;43;01mTrue\u001b[39;49;00m\u001b[43m)\u001b[49m\n",
      "File \u001b[0;32m~/venv/trabalho-pyspark-env/lib/python3.12/site-packages/pyspark/sql/readwriter.py:740\u001b[0m, in \u001b[0;36mDataFrameReader.csv\u001b[0;34m(self, path, schema, sep, encoding, quote, escape, comment, header, inferSchema, ignoreLeadingWhiteSpace, ignoreTrailingWhiteSpace, nullValue, nanValue, positiveInf, negativeInf, dateFormat, timestampFormat, maxColumns, maxCharsPerColumn, maxMalformedLogPerPartition, mode, columnNameOfCorruptRecord, multiLine, charToEscapeQuoteEscaping, samplingRatio, enforceSchema, emptyValue, locale, lineSep, pathGlobFilter, recursiveFileLookup, modifiedBefore, modifiedAfter, unescapedQuoteHandling)\u001b[0m\n\u001b[1;32m    738\u001b[0m \u001b[38;5;28;01mif\u001b[39;00m \u001b[38;5;28mtype\u001b[39m(path) \u001b[38;5;241m==\u001b[39m \u001b[38;5;28mlist\u001b[39m:\n\u001b[1;32m    739\u001b[0m     \u001b[38;5;28;01massert\u001b[39;00m \u001b[38;5;28mself\u001b[39m\u001b[38;5;241m.\u001b[39m_spark\u001b[38;5;241m.\u001b[39m_sc\u001b[38;5;241m.\u001b[39m_jvm \u001b[38;5;129;01mis\u001b[39;00m \u001b[38;5;129;01mnot\u001b[39;00m \u001b[38;5;28;01mNone\u001b[39;00m\n\u001b[0;32m--> 740\u001b[0m     \u001b[38;5;28;01mreturn\u001b[39;00m \u001b[38;5;28mself\u001b[39m\u001b[38;5;241m.\u001b[39m_df(\u001b[38;5;28;43mself\u001b[39;49m\u001b[38;5;241;43m.\u001b[39;49m\u001b[43m_jreader\u001b[49m\u001b[38;5;241;43m.\u001b[39;49m\u001b[43mcsv\u001b[49m\u001b[43m(\u001b[49m\u001b[38;5;28;43mself\u001b[39;49m\u001b[38;5;241;43m.\u001b[39;49m\u001b[43m_spark\u001b[49m\u001b[38;5;241;43m.\u001b[39;49m\u001b[43m_sc\u001b[49m\u001b[38;5;241;43m.\u001b[39;49m\u001b[43m_jvm\u001b[49m\u001b[38;5;241;43m.\u001b[39;49m\u001b[43mPythonUtils\u001b[49m\u001b[38;5;241;43m.\u001b[39;49m\u001b[43mtoSeq\u001b[49m\u001b[43m(\u001b[49m\u001b[43mpath\u001b[49m\u001b[43m)\u001b[49m\u001b[43m)\u001b[49m)\n\u001b[1;32m    741\u001b[0m \u001b[38;5;28;01melif\u001b[39;00m \u001b[38;5;28misinstance\u001b[39m(path, RDD):\n\u001b[1;32m    743\u001b[0m     \u001b[38;5;28;01mdef\u001b[39;00m\u001b[38;5;250m \u001b[39m\u001b[38;5;21mfunc\u001b[39m(iterator):\n",
      "File \u001b[0;32m~/venv/trabalho-pyspark-env/lib/python3.12/site-packages/py4j/java_gateway.py:1321\u001b[0m, in \u001b[0;36mJavaMember.__call__\u001b[0;34m(self, *args)\u001b[0m\n\u001b[1;32m   1314\u001b[0m args_command, temp_args \u001b[38;5;241m=\u001b[39m \u001b[38;5;28mself\u001b[39m\u001b[38;5;241m.\u001b[39m_build_args(\u001b[38;5;241m*\u001b[39margs)\n\u001b[1;32m   1316\u001b[0m command \u001b[38;5;241m=\u001b[39m proto\u001b[38;5;241m.\u001b[39mCALL_COMMAND_NAME \u001b[38;5;241m+\u001b[39m\\\n\u001b[1;32m   1317\u001b[0m     \u001b[38;5;28mself\u001b[39m\u001b[38;5;241m.\u001b[39mcommand_header \u001b[38;5;241m+\u001b[39m\\\n\u001b[1;32m   1318\u001b[0m     args_command \u001b[38;5;241m+\u001b[39m\\\n\u001b[1;32m   1319\u001b[0m     proto\u001b[38;5;241m.\u001b[39mEND_COMMAND_PART\n\u001b[0;32m-> 1321\u001b[0m answer \u001b[38;5;241m=\u001b[39m \u001b[38;5;28;43mself\u001b[39;49m\u001b[38;5;241;43m.\u001b[39;49m\u001b[43mgateway_client\u001b[49m\u001b[38;5;241;43m.\u001b[39;49m\u001b[43msend_command\u001b[49m\u001b[43m(\u001b[49m\u001b[43mcommand\u001b[49m\u001b[43m)\u001b[49m\n\u001b[1;32m   1322\u001b[0m return_value \u001b[38;5;241m=\u001b[39m get_return_value(\n\u001b[1;32m   1323\u001b[0m     answer, \u001b[38;5;28mself\u001b[39m\u001b[38;5;241m.\u001b[39mgateway_client, \u001b[38;5;28mself\u001b[39m\u001b[38;5;241m.\u001b[39mtarget_id, \u001b[38;5;28mself\u001b[39m\u001b[38;5;241m.\u001b[39mname)\n\u001b[1;32m   1325\u001b[0m \u001b[38;5;28;01mfor\u001b[39;00m temp_arg \u001b[38;5;129;01min\u001b[39;00m temp_args:\n",
      "File \u001b[0;32m~/venv/trabalho-pyspark-env/lib/python3.12/site-packages/py4j/java_gateway.py:1038\u001b[0m, in \u001b[0;36mGatewayClient.send_command\u001b[0;34m(self, command, retry, binary)\u001b[0m\n\u001b[1;32m   1036\u001b[0m connection \u001b[38;5;241m=\u001b[39m \u001b[38;5;28mself\u001b[39m\u001b[38;5;241m.\u001b[39m_get_connection()\n\u001b[1;32m   1037\u001b[0m \u001b[38;5;28;01mtry\u001b[39;00m:\n\u001b[0;32m-> 1038\u001b[0m     response \u001b[38;5;241m=\u001b[39m \u001b[43mconnection\u001b[49m\u001b[38;5;241;43m.\u001b[39;49m\u001b[43msend_command\u001b[49m\u001b[43m(\u001b[49m\u001b[43mcommand\u001b[49m\u001b[43m)\u001b[49m\n\u001b[1;32m   1039\u001b[0m     \u001b[38;5;28;01mif\u001b[39;00m binary:\n\u001b[1;32m   1040\u001b[0m         \u001b[38;5;28;01mreturn\u001b[39;00m response, \u001b[38;5;28mself\u001b[39m\u001b[38;5;241m.\u001b[39m_create_connection_guard(connection)\n",
      "File \u001b[0;32m~/venv/trabalho-pyspark-env/lib/python3.12/site-packages/py4j/clientserver.py:511\u001b[0m, in \u001b[0;36mClientServerConnection.send_command\u001b[0;34m(self, command)\u001b[0m\n\u001b[1;32m    509\u001b[0m \u001b[38;5;28;01mtry\u001b[39;00m:\n\u001b[1;32m    510\u001b[0m     \u001b[38;5;28;01mwhile\u001b[39;00m \u001b[38;5;28;01mTrue\u001b[39;00m:\n\u001b[0;32m--> 511\u001b[0m         answer \u001b[38;5;241m=\u001b[39m smart_decode(\u001b[38;5;28;43mself\u001b[39;49m\u001b[38;5;241;43m.\u001b[39;49m\u001b[43mstream\u001b[49m\u001b[38;5;241;43m.\u001b[39;49m\u001b[43mreadline\u001b[49m\u001b[43m(\u001b[49m\u001b[43m)\u001b[49m[:\u001b[38;5;241m-\u001b[39m\u001b[38;5;241m1\u001b[39m])\n\u001b[1;32m    512\u001b[0m         logger\u001b[38;5;241m.\u001b[39mdebug(\u001b[38;5;124m\"\u001b[39m\u001b[38;5;124mAnswer received: \u001b[39m\u001b[38;5;132;01m{0}\u001b[39;00m\u001b[38;5;124m\"\u001b[39m\u001b[38;5;241m.\u001b[39mformat(answer))\n\u001b[1;32m    513\u001b[0m         \u001b[38;5;66;03m# Happens when a the other end is dead. There might be an empty\u001b[39;00m\n\u001b[1;32m    514\u001b[0m         \u001b[38;5;66;03m# answer before the socket raises an error.\u001b[39;00m\n",
      "File \u001b[0;32m/usr/lib/python3.12/socket.py:707\u001b[0m, in \u001b[0;36mSocketIO.readinto\u001b[0;34m(self, b)\u001b[0m\n\u001b[1;32m    705\u001b[0m \u001b[38;5;28;01mwhile\u001b[39;00m \u001b[38;5;28;01mTrue\u001b[39;00m:\n\u001b[1;32m    706\u001b[0m     \u001b[38;5;28;01mtry\u001b[39;00m:\n\u001b[0;32m--> 707\u001b[0m         \u001b[38;5;28;01mreturn\u001b[39;00m \u001b[38;5;28;43mself\u001b[39;49m\u001b[38;5;241;43m.\u001b[39;49m\u001b[43m_sock\u001b[49m\u001b[38;5;241;43m.\u001b[39;49m\u001b[43mrecv_into\u001b[49m\u001b[43m(\u001b[49m\u001b[43mb\u001b[49m\u001b[43m)\u001b[49m\n\u001b[1;32m    708\u001b[0m     \u001b[38;5;28;01mexcept\u001b[39;00m timeout:\n\u001b[1;32m    709\u001b[0m         \u001b[38;5;28mself\u001b[39m\u001b[38;5;241m.\u001b[39m_timeout_occurred \u001b[38;5;241m=\u001b[39m \u001b[38;5;28;01mTrue\u001b[39;00m\n",
      "\u001b[0;31mKeyboardInterrupt\u001b[0m: "
     ]
    },
    {
     "name": "stderr",
     "output_type": "stream",
     "text": [
      "                                                                                \r"
     ]
    }
   ],
   "source": [
    "# Download latest version\n",
    "# path = kagglehub.dataset_download(\"sobhanmoosavi/us-accidents\")\n",
    "# print(\"Path to dataset files:\", path)\n",
    "\n",
    "df = spark.read.csv('/home/arthur/.cache/kagglehub/datasets/sobhanmoosavi/us-accidents/versions/13/US_Accidents_March23.csv', header=True, inferSchema=True)"
   ]
  },
  {
   "cell_type": "code",
   "execution_count": 69,
   "metadata": {},
   "outputs": [],
   "source": [
    "sampled_df = df.sample(withReplacement=False, fraction=0.01)"
   ]
  },
  {
   "cell_type": "code",
   "execution_count": 70,
   "metadata": {},
   "outputs": [
    {
     "name": "stdout",
     "output_type": "stream",
     "text": [
      "+------+-------+--------+-------------------+-------------------+------------------+-------------------+-------+-------+------------+--------------------+--------------+-------------------+------------+-----+----------+-------+----------+------------+-------------------+--------------+-------------+-----------+------------+--------------+--------------+---------------+-----------------+-----------------+-------+-----+--------+--------+--------+-------+-------+----------+-------+-----+---------------+--------------+------------+--------------+--------------+-----------------+---------------------+\n",
      "|    ID| Source|Severity|         Start_Time|           End_Time|         Start_Lat|          Start_Lng|End_Lat|End_Lng|Distance(mi)|         Description|        Street|               City|      County|State|   Zipcode|Country|  Timezone|Airport_Code|  Weather_Timestamp|Temperature(F)|Wind_Chill(F)|Humidity(%)|Pressure(in)|Visibility(mi)|Wind_Direction|Wind_Speed(mph)|Precipitation(in)|Weather_Condition|Amenity| Bump|Crossing|Give_Way|Junction|No_Exit|Railway|Roundabout|Station| Stop|Traffic_Calming|Traffic_Signal|Turning_Loop|Sunrise_Sunset|Civil_Twilight|Nautical_Twilight|Astronomical_Twilight|\n",
      "+------+-------+--------+-------------------+-------------------+------------------+-------------------+-------+-------+------------+--------------------+--------------+-------------------+------------+-----+----------+-------+----------+------------+-------------------+--------------+-------------+-----------+------------+--------------+--------------+---------------+-----------------+-----------------+-------+-----+--------+--------+--------+-------+-------+----------+-------+-----+---------------+--------------+------------+--------------+--------------+-----------------+---------------------+\n",
      "|  A-86|Source2|       3|2016-02-10 18:09:00|2016-02-10 23:59:00|         41.083679|         -81.579002|   NULL|   NULL|        1.28|Left lane blocked...|     Copley Rd|              Akron|      Summit|   OH|44320-2561|     US|US/Eastern|        KAKR|2016-02-10 18:10:00|          19.9|          7.3|       78.0|       29.87|           4.0|           WNW|           12.7|              0.0|       Light Snow|  false|false|   false|   false|   false|  false|  false|     false|  false|false|          false|         false|       false|         Night|           Day|              Day|                  Day|\n",
      "| A-134|Source2|       3|2016-02-13 12:56:31|2016-02-13 13:26:31|39.986323999999996|         -82.985458|   NULL|   NULL|        0.01|Left lane blocked...|   North Fwy S|           Columbus|    Franklin|   OH|     43201|     US|US/Eastern|        KCMH|2016-02-13 12:51:00|          12.9|         -3.4|       43.0|       30.53|          10.0|           NNW|           16.1|             NULL|    Mostly Cloudy|  false|false|   false|   false|    true|  false|  false|     false|  false|false|          false|         false|       false|           Day|           Day|              Day|                  Day|\n",
      "| A-235|Source2|       2|2016-02-18 05:46:52|2016-02-18 06:16:52|         39.855103|         -84.183678|   NULL|   NULL|        0.01|Accident on Littl...|Little York Rd|             Dayton|  Montgomery|   OH|45414-2507|     US|US/Eastern|        KDAY|2016-02-18 05:56:00|          27.0|         NULL|       81.0|       30.45|           7.0|          Calm|           NULL|             NULL|    Mostly Cloudy|  false|false|   false|   false|   false|  false|  false|     false|  false|false|          false|          true|       false|         Night|         Night|            Night|                Night|\n",
      "| A-276|Source2|       2|2016-02-19 06:08:10|2016-02-19 06:53:10|         39.915928| -82.98246800000003|   NULL|   NULL|        0.01|Accident on Grove...|  Groveport Rd|           Columbus|    Franklin|   OH|     43207|     US|US/Eastern|        KLCK|2016-02-19 06:15:00|          35.4|         29.7|       68.0|       30.15|          10.0|           SSE|            6.9|             NULL|            Clear|  false|false|   false|   false|   false|  false|  false|     false|  false|false|          false|         false|       false|         Night|         Night|            Night|                  Day|\n",
      "| A-500|Source2|       2|2016-03-04 14:55:55|2016-03-04 15:40:55|         39.747753| -84.20558199999998|   NULL|   NULL|        0.01|Accident on US-35...|        I-75 S|             Dayton|  Montgomery|   OH|     45417|     US|US/Eastern|        KDAY|2016-03-04 14:56:00|          32.0|         24.8|       88.0|        30.2|           5.0|            NW|            8.1|             NULL|         Overcast|  false|false|   false|   false|   false|  false|  false|     false|  false|false|          false|         false|       false|           Day|           Day|              Day|                  Day|\n",
      "| A-527|Source2|       2|2016-03-08 06:10:30|2016-03-08 06:40:30|         39.019779| -84.20581800000002|   NULL|   NULL|        0.01|Accident on OH-13...|   E Ohio Pike|             Amelia|    Clermont|   OH|45102-2351|     US|US/Eastern|        KI69|2016-03-08 06:12:00|          55.4|         NULL|       49.0|       30.13|          10.0|         South|            5.8|             NULL|            Clear|  false|false|    true|   false|   false|  false|  false|     false|  false|false|          false|          true|       false|         Night|         Night|              Day|                  Day|\n",
      "| A-700|Source2|       2|2016-03-17 08:58:06|2016-03-17 09:58:06|         39.740417|         -84.186539|   NULL|   NULL|        0.01|Accident on Stewa...|     S Main St|             Dayton|  Montgomery|   OH|     45409|     US|US/Eastern|        KFFO|2016-03-17 08:58:00|          45.5|         41.3|       71.0|       29.94|          10.0|            SW|            8.1|             NULL|            Clear|  false|false|    true|   false|   false|  false|  false|     false|  false|false|          false|          true|       false|           Day|           Day|              Day|                  Day|\n",
      "| A-854|Source2|       3|2016-06-22 10:17:01|2016-06-22 11:02:01|         38.686363|         -121.33287|   NULL|   NULL|         0.0|#1 &amp; #2 lane ...|        I-80 W|         Sacramento|  Sacramento|   CA|     95841|     US|US/Pacific|        KMCC|2016-06-22 10:15:00|          75.2|         NULL|       38.0|       29.94|           7.0|         South|            9.2|             NULL|            Clear|  false|false|   false|   false|   false|  false|  false|     false|  false|false|          false|         false|       false|           Day|           Day|              Day|                  Day|\n",
      "| A-933|Source2|       3|2016-06-22 18:54:05|2016-06-22 19:24:05|         37.641117|        -122.406021|   NULL|   NULL|         0.0|Accident on I-380...|Bayshore Fwy S|South San Francisco|   San Mateo|   CA|     94080|     US|US/Pacific|        KSFO|2016-06-22 18:56:00|          62.1|         NULL|       62.0|        30.0|          10.0|          West|           12.7|             NULL|    Partly Cloudy|  false|false|   false|   false|   false|  false|  false|     false|  false|false|          false|         false|       false|           Day|           Day|              Day|                  Day|\n",
      "| A-941|Source2|       3|2016-06-22 19:39:03|2016-06-22 20:24:03|         38.942398|-121.09426100000002|   NULL|   NULL|         0.0|Accident on Bell ...|       Bell Rd|             Auburn|      Placer|   CA|     95603|     US|US/Pacific|        KAUN|2016-06-22 19:35:00|          87.8|         NULL|       21.0|       29.95|          10.0|         South|            8.1|             NULL|            Clear|  false|false|    true|   false|   false|  false|  false|     false|  false|false|          false|          true|       false|           Day|           Day|              Day|                  Day|\n",
      "|A-1090|Source2|       3|2016-06-24 07:36:05|2016-06-24 08:35:17|          37.56221|-121.90543400000001|   NULL|   NULL|         0.0|Slow lane blocked...|   Sheridan Rd|              Sunol|     Alameda|   CA|     94586|     US|US/Pacific|        KLVK|2016-06-24 07:53:00|          59.0|         NULL|       78.0|       30.06|          10.0|            NW|            6.9|             NULL|            Clear|  false|false|   false|   false|   false|  false|  false|     false|  false|false|          false|         false|       false|           Day|           Day|              Day|                  Day|\n",
      "|A-1244|Source2|       3|2016-06-25 13:30:32|2016-06-25 14:52:00|         37.976215|-122.31851999999999|   NULL|   NULL|         0.0|Right hand should...|        I-80 W|          San Pablo|Contra Costa|   CA|     94806|     US|US/Pacific|        KCCR|2016-06-25 13:53:00|          95.0|         NULL|       16.0|       29.87|          10.0|           WNW|           12.7|             NULL|            Clear|  false|false|   false|   false|   false|  false|  false|     false|  false|false|          false|         false|       false|           Day|           Day|              Day|                  Day|\n",
      "|A-1305|Source2|       2|2016-06-26 05:20:46|2016-06-26 06:20:46|         37.452118|        -122.126907|   NULL|   NULL|         0.0|Right hand should...|Bayshore Fwy S|          Palo Alto| Santa Clara|   CA|     94303|     US|US/Pacific|        KPAO|2016-06-26 06:47:00|          59.0|         NULL|       88.0|       29.97|          10.0|          Calm|           NULL|             NULL|    Partly Cloudy|  false|false|   false|   false|    true|  false|  false|     false|  false|false|          false|         false|       false|         Night|           Day|              Day|                  Day|\n",
      "|A-1363|Source2|       3|2016-06-27 02:26:01|2016-06-27 03:26:01|         37.956047|        -122.329842|   NULL|   NULL|         0.0|Two lanes blocked...|        I-80 E|          San Pablo|Contra Costa|   CA|     94806|     US|US/Pacific|        KCCR|2016-06-27 02:53:00|          64.9|         NULL|       61.0|       29.92|          10.0|          Calm|           NULL|             NULL|            Clear|  false|false|   false|   false|   false|  false|  false|     false|  false|false|          false|         false|       false|         Night|         Night|            Night|                Night|\n",
      "|A-1466|Source2|       2|2016-06-27 18:35:11|2016-06-27 19:35:11|         38.177197|         -121.26255|   NULL|   NULL|         0.0|Accident on CA-99...|       CA-99 S|             Acampo| San Joaquin|   CA|     95220|     US|US/Pacific|        KSCK|2016-06-27 18:55:00|          96.1|         NULL|       19.0|       29.86|          10.0|           WNW|           16.1|             NULL|            Clear|  false|false|   false|   false|    true|  false|  false|     false|  false|false|          false|         false|       false|           Day|           Day|              Day|                  Day|\n",
      "|A-1648|Source2|       3|2016-06-29 10:47:51|2016-06-29 11:33:44|          37.66637|        -122.107491|   NULL|   NULL|         0.0|Right hand should...|       I-880 N|            Hayward|     Alameda|   CA|     94541|     US|US/Pacific|        KHWD|2016-06-29 10:54:00|          60.1|         NULL|       67.0|       30.04|          10.0|          West|           11.5|              0.0|    Mostly Cloudy|  false|false|    true|   false|   false|  false|  false|     false|  false|false|          false|          true|       false|           Day|           Day|              Day|                  Day|\n",
      "|A-1775|Source2|       3|2016-06-30 12:17:23|2016-06-30 13:02:23|         37.317062|-121.97492199999999|   NULL|   NULL|         0.0|Accident on I-280...|  Saratoga Ave|           San Jose| Santa Clara|   CA|     95129|     US|US/Pacific|        KSJC|2016-06-30 11:53:00|          78.1|         NULL|       42.0|       29.87|          10.0|           NNW|            4.6|             NULL|            Clear|  false|false|   false|   false|   false|  false|  false|     false|  false|false|          false|         false|       false|           Day|           Day|              Day|                  Day|\n",
      "|A-1921|Source2|       3|2016-07-02 09:29:38|2016-07-02 14:50:00|          37.68528|-122.12991299999999|   NULL|   NULL|         0.0|Right hand should...|Hesperian Blvd|        San Lorenzo|     Alameda|   CA|     94580|     US|US/Pacific|        KHWD|2016-07-02 09:54:00|          64.9|         NULL|       63.0|       29.99|          10.0|           WNW|            6.9|             NULL|            Clear|  false|false|   false|   false|   false|  false|  false|     false|  false|false|          false|         false|       false|           Day|           Day|              Day|                  Day|\n",
      "|A-2022|Source2|       2|2016-07-04 00:45:22|2016-07-04 01:15:22|          38.34832|-122.71316499999999|   NULL|   NULL|         0.0|Right hand should...| Redwood Hwy S|       Rohnert Park|      Sonoma|   CA|     94928|     US|US/Pacific|        KO69|2016-07-04 00:55:00|          53.6|         NULL|      100.0|       30.04|           5.0|            NW|            5.8|             NULL|         Overcast|  false|false|   false|   false|   false|  false|  false|     false|  false|false|          false|         false|       false|         Night|         Night|            Night|                Night|\n",
      "|A-2167|Source2|       3|2016-07-05 14:42:43|2016-07-05 15:27:43|         37.737331|-122.19333600000002|   NULL|   NULL|         0.0|Right hand should...|       I-880 N|            Oakland|     Alameda|   CA|     94603|     US|US/Pacific|        KOAK|2016-07-05 14:53:00|          68.0|         NULL|       55.0|        30.0|          10.0|          West|           16.1|             NULL|    Partly Cloudy|  false|false|   false|   false|    true|  false|  false|     false|  false|false|          false|         false|       false|           Day|           Day|              Day|                  Day|\n",
      "+------+-------+--------+-------------------+-------------------+------------------+-------------------+-------+-------+------------+--------------------+--------------+-------------------+------------+-----+----------+-------+----------+------------+-------------------+--------------+-------------+-----------+------------+--------------+--------------+---------------+-----------------+-----------------+-------+-----+--------+--------+--------+-------+-------+----------+-------+-----+---------------+--------------+------------+--------------+--------------+-----------------+---------------------+\n",
      "only showing top 20 rows\n",
      "\n"
     ]
    }
   ],
   "source": [
    "sampled_df.show()"
   ]
  },
  {
   "cell_type": "code",
   "execution_count": 71,
   "metadata": {},
   "outputs": [
    {
     "name": "stderr",
     "output_type": "stream",
     "text": [
      "                                                                                \r"
     ]
    },
    {
     "data": {
      "text/plain": [
       "77437"
      ]
     },
     "execution_count": 71,
     "metadata": {},
     "output_type": "execute_result"
    }
   ],
   "source": [
    "sampled_df.count()"
   ]
  },
  {
   "cell_type": "markdown",
   "metadata": {},
   "source": [
    "## Descrição dos Dados"
   ]
  },
  {
   "cell_type": "code",
   "execution_count": 5,
   "metadata": {},
   "outputs": [
    {
     "name": "stderr",
     "output_type": "stream",
     "text": [
      "[Stage 3:======================================================>  (22 + 1) / 23]\r"
     ]
    },
    {
     "name": "stdout",
     "output_type": "stream",
     "text": [
      "Número de Linhas: 7728394\n",
      "Número de Colunas: 46\n"
     ]
    },
    {
     "name": "stderr",
     "output_type": "stream",
     "text": [
      "                                                                                \r"
     ]
    }
   ],
   "source": [
    "print(f\"Número de Linhas: {df.count()}\")\n",
    "print(f\"Número de Colunas: {len(df.columns)}\")"
   ]
  },
  {
   "cell_type": "code",
   "execution_count": 6,
   "metadata": {},
   "outputs": [
    {
     "name": "stdout",
     "output_type": "stream",
     "text": [
      "root\n",
      " |-- ID: string (nullable = true)\n",
      " |-- Source: string (nullable = true)\n",
      " |-- Severity: integer (nullable = true)\n",
      " |-- Start_Time: timestamp (nullable = true)\n",
      " |-- End_Time: timestamp (nullable = true)\n",
      " |-- Start_Lat: double (nullable = true)\n",
      " |-- Start_Lng: double (nullable = true)\n",
      " |-- End_Lat: double (nullable = true)\n",
      " |-- End_Lng: double (nullable = true)\n",
      " |-- Distance(mi): double (nullable = true)\n",
      " |-- Description: string (nullable = true)\n",
      " |-- Street: string (nullable = true)\n",
      " |-- City: string (nullable = true)\n",
      " |-- County: string (nullable = true)\n",
      " |-- State: string (nullable = true)\n",
      " |-- Zipcode: string (nullable = true)\n",
      " |-- Country: string (nullable = true)\n",
      " |-- Timezone: string (nullable = true)\n",
      " |-- Airport_Code: string (nullable = true)\n",
      " |-- Weather_Timestamp: timestamp (nullable = true)\n",
      " |-- Temperature(F): double (nullable = true)\n",
      " |-- Wind_Chill(F): double (nullable = true)\n",
      " |-- Humidity(%): double (nullable = true)\n",
      " |-- Pressure(in): double (nullable = true)\n",
      " |-- Visibility(mi): double (nullable = true)\n",
      " |-- Wind_Direction: string (nullable = true)\n",
      " |-- Wind_Speed(mph): double (nullable = true)\n",
      " |-- Precipitation(in): double (nullable = true)\n",
      " |-- Weather_Condition: string (nullable = true)\n",
      " |-- Amenity: boolean (nullable = true)\n",
      " |-- Bump: boolean (nullable = true)\n",
      " |-- Crossing: boolean (nullable = true)\n",
      " |-- Give_Way: boolean (nullable = true)\n",
      " |-- Junction: boolean (nullable = true)\n",
      " |-- No_Exit: boolean (nullable = true)\n",
      " |-- Railway: boolean (nullable = true)\n",
      " |-- Roundabout: boolean (nullable = true)\n",
      " |-- Station: boolean (nullable = true)\n",
      " |-- Stop: boolean (nullable = true)\n",
      " |-- Traffic_Calming: boolean (nullable = true)\n",
      " |-- Traffic_Signal: boolean (nullable = true)\n",
      " |-- Turning_Loop: boolean (nullable = true)\n",
      " |-- Sunrise_Sunset: string (nullable = true)\n",
      " |-- Civil_Twilight: string (nullable = true)\n",
      " |-- Nautical_Twilight: string (nullable = true)\n",
      " |-- Astronomical_Twilight: string (nullable = true)\n",
      "\n"
     ]
    }
   ],
   "source": [
    "df.printSchema()"
   ]
  },
  {
   "cell_type": "markdown",
   "metadata": {},
   "source": [
    "### Identificação e Origem\n",
    "ID: Identificador único para cada registro no dataset.\n",
    "\n",
    "Source: Fonte ou sistema de onde os dados foram obtidos.\n",
    "\n",
    "### Detalhes do Incidente\n",
    "Severity: Nível de gravidade do incidente, geralmente representado por um número inteiro.\n",
    "\n",
    "Start_Time: Data e hora de início do incidente.\n",
    "\n",
    "End_Time: Data e hora de término do incidente.\n",
    "\n",
    "Description: Descrição textual do incidente.\n",
    "\n",
    "### Localização Geográfica\n",
    "Start_Lat: Latitude do ponto inicial do incidente.\n",
    "\n",
    "Start_Lng: Longitude do ponto inicial do incidente.\n",
    "\n",
    "End_Lat: Latitude do ponto final do incidente.\n",
    "\n",
    "End_Lng: Longitude do ponto final do incidente.\n",
    "\n",
    "Distance(mi): Distância total do incidente em milhas.\n",
    "\n",
    "Street: Nome da rua onde o incidente ocorreu.\n",
    "\n",
    "City: Cidade onde o incidente ocorreu.\n",
    "\n",
    "County: Condado onde o incidente ocorreu.\n",
    "\n",
    "State: Estado onde o incidente ocorreu.\n",
    "\n",
    "Zipcode: Código postal da área onde o incidente ocorreu.\n",
    "\n",
    "Country: País onde o incidente ocorreu.\n",
    "\n",
    "Timezone: Fuso horário da localização do incidente.\n",
    "\n",
    "Airport_Code: Código do aeroporto mais próximo ao local do incidente.\n",
    "\n",
    "\n",
    "### Condições Climáticas\n",
    "Weather_Timestamp: Data e hora da coleta das condições meteorológicas.\n",
    "\n",
    "Temperature(F): Temperatura em graus Fahrenheit no momento do incidente.\n",
    "\n",
    "Wind_Chill(F): Sensação térmica em graus Fahrenheit.\n",
    "\n",
    "Humidity(%): Umidade relativa do ar em porcentagem.\n",
    "\n",
    "Pressure(in): Pressão atmosférica em polegadas de mercúrio.\n",
    "\n",
    "Visibility(mi): Visibilidade em milhas no momento do incidente.\n",
    "\n",
    "Wind_Direction: Direção do vento.\n",
    "\n",
    "Wind_Speed(mph): Velocidade do vento em milhas por hora.\n",
    "\n",
    "Precipitation(in): Precipitação em polegadas.\n",
    "\n",
    "Weather_Condition: Condição meteorológica no momento do incidente (e.g., chuva, neve, nublado).\n",
    "\n",
    "\n",
    "### Condições da Via\n",
    "Amenity: Indica se havia uma amenidade próxima (True/False).\n",
    "\n",
    "Bump: Indica se havia um quebra-molas (True/False).\n",
    "\n",
    "Crossing: Indica se havia uma travessia de pedestres (True/False).\n",
    "\n",
    "Give_Way: Indica se havia uma sinalização de \"Dê a preferência\" (True/False).\n",
    "\n",
    "Junction: Indica se o incidente ocorreu em uma junção (True/False).\n",
    "\n",
    "No_Exit: Indica se a área era um beco sem saída (True/False).\n",
    "\n",
    "Railway: Indica se havia uma ferrovia próxima (True/False).\n",
    "\n",
    "Roundabout: Indica se havia uma rotatória próxima (True/False).\n",
    "\n",
    "Station: Indica se havia uma estação próxima (True/False).\n",
    "\n",
    "Stop: Indica se havia uma placa de parada próxima (True/False).\n",
    "\n",
    "Traffic_Calming: Indica se havia medidas de acalmia de tráfego (True/False).\n",
    "\n",
    "Traffic_Signal: Indica se havia semáforos próximos (True/False).\n",
    "\n",
    "Turning_Loop: Indica se havia um retorno próximo (True/False).\n",
    "\n",
    "\n",
    "### Condições de Luminosidade\n",
    "\n",
    "Sunrise_Sunset: Indica se o incidente ocorreu durante o nascer ou pôr do sol.\n",
    "\n",
    "Civil_Twilight: Período de crepúsculo civil (luz solar indireta).\n",
    "\n",
    "Nautical_Twilight: Período de crepúsculo náutico (horizonte visível ao mar).\n",
    "\n",
    "Astronomical_Twilight: Período de crepúsculo astronômico (pouca ou nenhuma luz solar).\n"
   ]
  },
  {
   "cell_type": "markdown",
   "metadata": {},
   "source": [
    "## Tratamento dos Dados"
   ]
  },
  {
   "cell_type": "markdown",
   "metadata": {},
   "source": [
    "#### Check NAs"
   ]
  },
  {
   "cell_type": "code",
   "execution_count": 7,
   "metadata": {},
   "outputs": [
    {
     "name": "stderr",
     "output_type": "stream",
     "text": [
      "                                                                                \r"
     ]
    },
    {
     "data": {
      "text/html": [
       "<div>\n",
       "<style scoped>\n",
       "    .dataframe tbody tr th:only-of-type {\n",
       "        vertical-align: middle;\n",
       "    }\n",
       "\n",
       "    .dataframe tbody tr th {\n",
       "        vertical-align: top;\n",
       "    }\n",
       "\n",
       "    .dataframe thead th {\n",
       "        text-align: right;\n",
       "    }\n",
       "</style>\n",
       "<table border=\"1\" class=\"dataframe\">\n",
       "  <thead>\n",
       "    <tr style=\"text-align: right;\">\n",
       "      <th></th>\n",
       "      <th>0</th>\n",
       "    </tr>\n",
       "  </thead>\n",
       "  <tbody>\n",
       "    <tr>\n",
       "      <th>ID</th>\n",
       "      <td>0.00%</td>\n",
       "    </tr>\n",
       "    <tr>\n",
       "      <th>Source</th>\n",
       "      <td>0.00%</td>\n",
       "    </tr>\n",
       "    <tr>\n",
       "      <th>Severity</th>\n",
       "      <td>0.00%</td>\n",
       "    </tr>\n",
       "    <tr>\n",
       "      <th>Start_Time</th>\n",
       "      <td>0.00%</td>\n",
       "    </tr>\n",
       "    <tr>\n",
       "      <th>End_Time</th>\n",
       "      <td>0.00%</td>\n",
       "    </tr>\n",
       "    <tr>\n",
       "      <th>Start_Lat</th>\n",
       "      <td>0.00%</td>\n",
       "    </tr>\n",
       "    <tr>\n",
       "      <th>Start_Lng</th>\n",
       "      <td>0.00%</td>\n",
       "    </tr>\n",
       "    <tr>\n",
       "      <th>End_Lat</th>\n",
       "      <td>44.03%</td>\n",
       "    </tr>\n",
       "    <tr>\n",
       "      <th>End_Lng</th>\n",
       "      <td>44.03%</td>\n",
       "    </tr>\n",
       "    <tr>\n",
       "      <th>Distance(mi)</th>\n",
       "      <td>0.00%</td>\n",
       "    </tr>\n",
       "    <tr>\n",
       "      <th>Description</th>\n",
       "      <td>0.00%</td>\n",
       "    </tr>\n",
       "    <tr>\n",
       "      <th>Street</th>\n",
       "      <td>0.14%</td>\n",
       "    </tr>\n",
       "    <tr>\n",
       "      <th>City</th>\n",
       "      <td>0.00%</td>\n",
       "    </tr>\n",
       "    <tr>\n",
       "      <th>County</th>\n",
       "      <td>0.00%</td>\n",
       "    </tr>\n",
       "    <tr>\n",
       "      <th>State</th>\n",
       "      <td>0.00%</td>\n",
       "    </tr>\n",
       "    <tr>\n",
       "      <th>Zipcode</th>\n",
       "      <td>0.02%</td>\n",
       "    </tr>\n",
       "    <tr>\n",
       "      <th>Country</th>\n",
       "      <td>0.00%</td>\n",
       "    </tr>\n",
       "    <tr>\n",
       "      <th>Timezone</th>\n",
       "      <td>0.10%</td>\n",
       "    </tr>\n",
       "    <tr>\n",
       "      <th>Airport_Code</th>\n",
       "      <td>0.29%</td>\n",
       "    </tr>\n",
       "    <tr>\n",
       "      <th>Weather_Timestamp</th>\n",
       "      <td>1.56%</td>\n",
       "    </tr>\n",
       "    <tr>\n",
       "      <th>Temperature(F)</th>\n",
       "      <td>2.12%</td>\n",
       "    </tr>\n",
       "    <tr>\n",
       "      <th>Wind_Chill(F)</th>\n",
       "      <td>25.87%</td>\n",
       "    </tr>\n",
       "    <tr>\n",
       "      <th>Humidity(%)</th>\n",
       "      <td>2.25%</td>\n",
       "    </tr>\n",
       "    <tr>\n",
       "      <th>Pressure(in)</th>\n",
       "      <td>1.82%</td>\n",
       "    </tr>\n",
       "    <tr>\n",
       "      <th>Visibility(mi)</th>\n",
       "      <td>2.29%</td>\n",
       "    </tr>\n",
       "    <tr>\n",
       "      <th>Wind_Direction</th>\n",
       "      <td>2.27%</td>\n",
       "    </tr>\n",
       "    <tr>\n",
       "      <th>Wind_Speed(mph)</th>\n",
       "      <td>7.39%</td>\n",
       "    </tr>\n",
       "    <tr>\n",
       "      <th>Precipitation(in)</th>\n",
       "      <td>28.51%</td>\n",
       "    </tr>\n",
       "    <tr>\n",
       "      <th>Weather_Condition</th>\n",
       "      <td>2.24%</td>\n",
       "    </tr>\n",
       "    <tr>\n",
       "      <th>Amenity</th>\n",
       "      <td>0.00%</td>\n",
       "    </tr>\n",
       "    <tr>\n",
       "      <th>Bump</th>\n",
       "      <td>0.00%</td>\n",
       "    </tr>\n",
       "    <tr>\n",
       "      <th>Crossing</th>\n",
       "      <td>0.00%</td>\n",
       "    </tr>\n",
       "    <tr>\n",
       "      <th>Give_Way</th>\n",
       "      <td>0.00%</td>\n",
       "    </tr>\n",
       "    <tr>\n",
       "      <th>Junction</th>\n",
       "      <td>0.00%</td>\n",
       "    </tr>\n",
       "    <tr>\n",
       "      <th>No_Exit</th>\n",
       "      <td>0.00%</td>\n",
       "    </tr>\n",
       "    <tr>\n",
       "      <th>Railway</th>\n",
       "      <td>0.00%</td>\n",
       "    </tr>\n",
       "    <tr>\n",
       "      <th>Roundabout</th>\n",
       "      <td>0.00%</td>\n",
       "    </tr>\n",
       "    <tr>\n",
       "      <th>Station</th>\n",
       "      <td>0.00%</td>\n",
       "    </tr>\n",
       "    <tr>\n",
       "      <th>Stop</th>\n",
       "      <td>0.00%</td>\n",
       "    </tr>\n",
       "    <tr>\n",
       "      <th>Traffic_Calming</th>\n",
       "      <td>0.00%</td>\n",
       "    </tr>\n",
       "    <tr>\n",
       "      <th>Traffic_Signal</th>\n",
       "      <td>0.00%</td>\n",
       "    </tr>\n",
       "    <tr>\n",
       "      <th>Turning_Loop</th>\n",
       "      <td>0.00%</td>\n",
       "    </tr>\n",
       "    <tr>\n",
       "      <th>Sunrise_Sunset</th>\n",
       "      <td>0.30%</td>\n",
       "    </tr>\n",
       "    <tr>\n",
       "      <th>Civil_Twilight</th>\n",
       "      <td>0.30%</td>\n",
       "    </tr>\n",
       "    <tr>\n",
       "      <th>Nautical_Twilight</th>\n",
       "      <td>0.30%</td>\n",
       "    </tr>\n",
       "    <tr>\n",
       "      <th>Astronomical_Twilight</th>\n",
       "      <td>0.30%</td>\n",
       "    </tr>\n",
       "  </tbody>\n",
       "</table>\n",
       "</div>"
      ],
      "text/plain": [
       "                            0\n",
       "ID                      0.00%\n",
       "Source                  0.00%\n",
       "Severity                0.00%\n",
       "Start_Time              0.00%\n",
       "End_Time                0.00%\n",
       "Start_Lat               0.00%\n",
       "Start_Lng               0.00%\n",
       "End_Lat                44.03%\n",
       "End_Lng                44.03%\n",
       "Distance(mi)            0.00%\n",
       "Description             0.00%\n",
       "Street                  0.14%\n",
       "City                    0.00%\n",
       "County                  0.00%\n",
       "State                   0.00%\n",
       "Zipcode                 0.02%\n",
       "Country                 0.00%\n",
       "Timezone                0.10%\n",
       "Airport_Code            0.29%\n",
       "Weather_Timestamp       1.56%\n",
       "Temperature(F)          2.12%\n",
       "Wind_Chill(F)          25.87%\n",
       "Humidity(%)             2.25%\n",
       "Pressure(in)            1.82%\n",
       "Visibility(mi)          2.29%\n",
       "Wind_Direction          2.27%\n",
       "Wind_Speed(mph)         7.39%\n",
       "Precipitation(in)      28.51%\n",
       "Weather_Condition       2.24%\n",
       "Amenity                 0.00%\n",
       "Bump                    0.00%\n",
       "Crossing                0.00%\n",
       "Give_Way                0.00%\n",
       "Junction                0.00%\n",
       "No_Exit                 0.00%\n",
       "Railway                 0.00%\n",
       "Roundabout              0.00%\n",
       "Station                 0.00%\n",
       "Stop                    0.00%\n",
       "Traffic_Calming         0.00%\n",
       "Traffic_Signal          0.00%\n",
       "Turning_Loop            0.00%\n",
       "Sunrise_Sunset          0.30%\n",
       "Civil_Twilight          0.30%\n",
       "Nautical_Twilight       0.30%\n",
       "Astronomical_Twilight   0.30%"
      ]
     },
     "execution_count": 7,
     "metadata": {},
     "output_type": "execute_result"
    }
   ],
   "source": [
    "df_nulls = df.select([count(when(col(c).isNull(), c)).alias(c) for c in df.columns])\n",
    "\n",
    "df_nulls_pandas = df_nulls.toPandas()\n",
    "\n",
    "df_nulls_pandas_perc = 100* (df_nulls_pandas.T / df.count())\n",
    "\n",
    "df_nulls_pandas_perc.map('{:.2f}%'.format)"
   ]
  },
  {
   "cell_type": "markdown",
   "metadata": {},
   "source": [
    "### Drop NAs"
   ]
  },
  {
   "cell_type": "code",
   "execution_count": 8,
   "metadata": {},
   "outputs": [
    {
     "name": "stdout",
     "output_type": "stream",
     "text": [
      "+----+-------+--------+-------------------+-------------------+------------------+------------------+-------+-------+------------+--------------------+--------------------+------------+----------+-----+----------+-------+----------+------------+-------------------+--------------+-------------+-----------+------------+--------------+--------------+---------------+-----------------+-----------------+-------+-----+--------+--------+--------+-------+-------+----------+-------+-----+---------------+--------------+------------+--------------+--------------+-----------------+---------------------+\n",
      "|  ID| Source|Severity|         Start_Time|           End_Time|         Start_Lat|         Start_Lng|End_Lat|End_Lng|Distance(mi)|         Description|              Street|        City|    County|State|   Zipcode|Country|  Timezone|Airport_Code|  Weather_Timestamp|Temperature(F)|Wind_Chill(F)|Humidity(%)|Pressure(in)|Visibility(mi)|Wind_Direction|Wind_Speed(mph)|Precipitation(in)|Weather_Condition|Amenity| Bump|Crossing|Give_Way|Junction|No_Exit|Railway|Roundabout|Station| Stop|Traffic_Calming|Traffic_Signal|Turning_Loop|Sunrise_Sunset|Civil_Twilight|Nautical_Twilight|Astronomical_Twilight|\n",
      "+----+-------+--------+-------------------+-------------------+------------------+------------------+-------+-------+------------+--------------------+--------------------+------------+----------+-----+----------+-------+----------+------------+-------------------+--------------+-------------+-----------+------------+--------------+--------------+---------------+-----------------+-----------------+-------+-----+--------+--------+--------+-------+-------+----------+-------+-----+---------------+--------------+------------+--------------+--------------+-----------------+---------------------+\n",
      "| A-3|Source2|       2|2016-02-08 06:49:27|2016-02-08 07:19:27|         39.063148|        -84.032608|   NULL|   NULL|        0.01|Accident on OH-32...|      State Route 32|Williamsburg|  Clermont|   OH|     45176|     US|US/Eastern|        KI69|2016-02-08 06:56:00|          36.0|         33.3|      100.0|       29.67|          10.0|            SW|            3.5|             NULL|         Overcast|  false|false|   false|   false|   false|  false|  false|     false|  false|false|          false|          true|       false|         Night|         Night|              Day|                  Day|\n",
      "| A-4|Source2|       3|2016-02-08 07:23:34|2016-02-08 07:53:34|         39.747753|-84.20558199999998|   NULL|   NULL|        0.01|Accident on I-75 ...|              I-75 S|      Dayton|Montgomery|   OH|     45417|     US|US/Eastern|        KDAY|2016-02-08 07:38:00|          35.1|         31.0|       96.0|       29.64|           9.0|            SW|            4.6|             NULL|    Mostly Cloudy|  false|false|   false|   false|   false|  false|  false|     false|  false|false|          false|         false|       false|         Night|           Day|              Day|                  Day|\n",
      "| A-5|Source2|       2|2016-02-08 07:39:07|2016-02-08 08:09:07|         39.627781|        -84.188354|   NULL|   NULL|        0.01|Accident on McEwe...|Miamisburg Center...|      Dayton|Montgomery|   OH|     45459|     US|US/Eastern|        KMGY|2016-02-08 07:53:00|          36.0|         33.3|       89.0|       29.65|           6.0|            SW|            3.5|             NULL|    Mostly Cloudy|  false|false|   false|   false|   false|  false|  false|     false|  false|false|          false|          true|       false|           Day|           Day|              Day|                  Day|\n",
      "| A-6|Source2|       3|2016-02-08 07:44:26|2016-02-08 08:14:26|40.100590000000004|-82.92519399999998|   NULL|   NULL|        0.01|Accident on I-270...|      Westerville Rd| Westerville|  Franklin|   OH|     43081|     US|US/Eastern|        KCMH|2016-02-08 07:51:00|          37.9|         35.5|       97.0|       29.63|           7.0|           SSW|            3.5|             0.03|       Light Rain|  false|false|   false|   false|   false|  false|  false|     false|  false|false|          false|         false|       false|           Day|           Day|              Day|                  Day|\n",
      "| A-7|Source2|       2|2016-02-08 07:59:35|2016-02-08 08:29:35|         39.758274|-84.23050699999997|   NULL|   NULL|         0.0|Accident on Oakri...|      N Woodward Ave|      Dayton|Montgomery|   OH|45417-2476|     US|US/Eastern|        KDAY|2016-02-08 07:56:00|          34.0|         31.0|      100.0|       29.66|           7.0|           WSW|            3.5|             NULL|         Overcast|  false|false|   false|   false|   false|  false|  false|     false|  false|false|          false|         false|       false|           Day|           Day|              Day|                  Day|\n",
      "| A-8|Source2|       3|2016-02-08 07:59:58|2016-02-08 08:29:58|         39.770382|        -84.194901|   NULL|   NULL|        0.01|Accident on I-75 ...|           N Main St|      Dayton|Montgomery|   OH|     45405|     US|US/Eastern|        KDAY|2016-02-08 07:56:00|          34.0|         31.0|      100.0|       29.66|           7.0|           WSW|            3.5|             NULL|         Overcast|  false|false|   false|   false|   false|  false|  false|     false|  false|false|          false|         false|       false|           Day|           Day|              Day|                  Day|\n",
      "| A-9|Source2|       2|2016-02-08 08:00:40|2016-02-08 08:30:40|         39.778061|        -84.172005|   NULL|   NULL|         0.0|Accident on Notre...|      Notre Dame Ave|      Dayton|Montgomery|   OH|45404-1923|     US|US/Eastern|        KFFO|2016-02-08 07:58:00|          33.3|         NULL|       99.0|       29.67|           5.0|            SW|            1.2|             NULL|    Mostly Cloudy|  false|false|   false|   false|   false|  false|  false|     false|  false|false|          false|         false|       false|           Day|           Day|              Day|                  Day|\n",
      "|A-10|Source2|       3|2016-02-08 08:10:04|2016-02-08 08:40:04|40.100590000000004|-82.92519399999998|   NULL|   NULL|        0.01|Right hand should...|      Westerville Rd| Westerville|  Franklin|   OH|     43081|     US|US/Eastern|        KCMH|2016-02-08 08:28:00|          37.4|         33.8|      100.0|       29.62|           3.0|           SSW|            4.6|             0.02|       Light Rain|  false|false|   false|   false|   false|  false|  false|     false|  false|false|          false|         false|       false|           Day|           Day|              Day|                  Day|\n",
      "|A-11|Source2|       3|2016-02-08 08:14:42|2016-02-08 08:44:42|         39.952812|        -83.119293|   NULL|   NULL|        0.01|Accident on I-270...|         Outerbelt S|    Columbus|  Franklin|   OH|     43228|     US|US/Eastern|        KTZR|2016-02-08 07:50:00|          35.6|         30.7|       93.0|       29.64|           5.0|           WNW|            5.8|             NULL|             Rain|  false|false|    true|   false|    true|  false|  false|     false|  false|false|          false|         false|       false|           Day|           Day|              Day|                  Day|\n",
      "|A-12|Source2|       3|2016-02-08 08:21:27|2016-02-08 08:51:27|         39.932709|         -82.83091|   NULL|   NULL|        0.01|One lane blocked ...|              I-70 E|Reynoldsburg|  Franklin|   OH|     43068|     US|US/Eastern|        KCMH|2016-02-08 08:28:00|          37.4|         33.8|      100.0|       29.62|           3.0|           SSW|            4.6|             0.02|       Light Rain|  false|false|   false|   false|   false|  false|  false|     false|  false|false|          false|         false|       false|           Day|           Day|              Day|                  Day|\n",
      "|A-13|Source2|       2|2016-02-08 08:36:34|2016-02-08 09:06:34|         39.737633|-84.14993299999998|   NULL|   NULL|         0.0|Accident on Rever...|      Watervliet Ave|      Dayton|Montgomery|   OH|45420-1863|     US|US/Eastern|        KFFO|2016-02-08 08:28:00|          33.8|         NULL|      100.0|       29.63|           3.0|            SW|            2.3|             NULL|         Overcast|  false|false|   false|   false|   false|  false|  false|     false|  false|false|          false|         false|       false|           Day|           Day|              Day|                  Day|\n",
      "|A-14|Source2|       2|2016-02-08 08:37:07|2016-02-08 09:07:07|          39.79076|        -84.241547|   NULL|   NULL|        0.01|Accident on Salem...|           Salem Ave|      Dayton|Montgomery|   OH|45406-2708|     US|US/Eastern|        KDAY|2016-02-08 08:56:00|          36.0|         31.1|       89.0|       29.65|          10.0|            NW|            5.8|             NULL|    Mostly Cloudy|  false|false|   false|   false|   false|  false|  false|     false|  false|false|          false|          true|       false|           Day|           Day|              Day|                  Day|\n",
      "|A-15|Source2|       2|2016-02-08 08:39:43|2016-02-08 09:09:43|         39.972038|        -82.913521|   NULL|   NULL|        0.01|Accident on OH-16...|          E Broad St|    Columbus|  Franklin|   OH|43213-1006|     US|US/Eastern|        KCMH|2016-02-08 08:28:00|          37.4|         33.8|      100.0|       29.62|           3.0|           SSW|            4.6|             0.02|       Light Rain|  false|false|   false|   false|   false|  false|  false|     false|  false|false|          false|          true|       false|           Day|           Day|              Day|                  Day|\n",
      "|A-16|Source2|       2|2016-02-08 08:43:20|2016-02-08 09:13:20|         39.745888|         -84.17041|   NULL|   NULL|        0.01|Accident on Wayne...|         Glencoe Ave|      Dayton|Montgomery|   OH|45410-1721|     US|US/Eastern|        KFFO|2016-02-08 08:28:00|          33.8|         NULL|      100.0|       29.63|           3.0|            SW|            2.3|             NULL|         Overcast|  false|false|   false|   false|   false|  false|  false|     false|  false|false|          false|         false|       false|           Day|           Day|              Day|                  Day|\n",
      "|A-17|Source2|       2|2016-02-08 08:53:17|2016-02-08 09:23:17|         39.748329|        -84.224007|   NULL|   NULL|        0.01|Accident on James...|S James H McGee Blvd|      Dayton|Montgomery|   OH|     45402|     US|US/Eastern|        KFFO|2016-02-08 08:58:00|          35.6|         NULL|       99.0|       29.65|           7.0|           WSW|            2.3|             NULL|    Mostly Cloudy|  false|false|   false|   false|   false|  false|  false|     false|  false|false|          false|         false|       false|           Day|           Day|              Day|                  Day|\n",
      "|A-18|Source2|       2|2016-02-08 09:24:37|2016-02-08 09:54:37|         39.752174|        -84.239952|   NULL|   NULL|         0.0|Accident on Delph...|         Delphos Ave|      Dayton|Montgomery|   OH|45417-1727|     US|US/Eastern|        KDAY|2016-02-08 08:56:00|          36.0|         31.1|       89.0|       29.65|          10.0|            NW|            5.8|             NULL|    Mostly Cloudy|  false|false|   false|   false|   false|  false|  false|     false|  false|false|          false|         false|       false|           Day|           Day|              Day|                  Day|\n",
      "|A-19|Source2|       2|2016-02-08 09:25:17|2016-02-08 09:55:17|         39.740669|        -84.184135|   NULL|   NULL|        0.01|Accident on Stewa...|          Rubicon St|      Dayton|Montgomery|   OH|45409-2659|     US|US/Eastern|        KFFO|2016-02-08 09:38:00|          37.4|         32.1|       93.0|       29.63|          10.0|           WSW|            6.9|             NULL|         Overcast|  false|false|    true|   false|   false|  false|  false|     false|  false|false|          false|          true|       false|           Day|           Day|              Day|                  Day|\n",
      "|A-20|Source2|       2|2016-02-08 09:35:35|2016-02-08 10:05:35|         39.790703|        -84.244461|   NULL|   NULL|        0.01|Accident on Hillc...|     W Hillcrest Ave|      Dayton|Montgomery|   OH|45406-2640|     US|US/Eastern|        KDAY|2016-02-08 09:56:00|          36.0|         30.3|       89.0|       29.65|          10.0|          West|            6.9|             NULL|    Mostly Cloudy|  false|false|   false|   false|   false|  false|  false|     false|  false|false|          false|         false|       false|           Day|           Day|              Day|                  Day|\n",
      "|A-21|Source2|       2|2016-02-08 10:11:15|2016-02-08 10:41:15|         40.052509|-82.88233199999998|   NULL|   NULL|         0.0|Accident on Brook...|        Brookhill Dr|    Columbus|  Franklin|   OH|43230-1765|     US|US/Eastern|        KCMH|2016-02-08 10:14:00|          33.8|         29.6|      100.0|       29.62|           2.0|           NNW|            4.6|             0.01|       Light Snow|  false|false|   false|   false|   false|  false|  false|     false|  false|false|          false|         false|       false|           Day|           Day|              Day|                  Day|\n",
      "|A-22|Source2|       2|2016-02-08 10:24:27|2016-02-08 10:54:27|39.773346000000004|        -84.224686|   NULL|   NULL|         0.0|Accident on Princ...|        Princeton Dr|      Dayton|Montgomery|   OH|45406-4736|     US|US/Eastern|        KDAY|2016-02-08 09:56:00|          36.0|         30.3|       89.0|       29.65|          10.0|          West|            6.9|             NULL|    Mostly Cloudy|  false|false|   false|   false|   false|  false|  false|     false|  false|false|          false|         false|       false|           Day|           Day|              Day|                  Day|\n",
      "+----+-------+--------+-------------------+-------------------+------------------+------------------+-------+-------+------------+--------------------+--------------------+------------+----------+-----+----------+-------+----------+------------+-------------------+--------------+-------------+-----------+------------+--------------+--------------+---------------+-----------------+-----------------+-------+-----+--------+--------+--------+-------+-------+----------+-------+-----+---------------+--------------+------------+--------------+--------------+-----------------+---------------------+\n",
      "only showing top 20 rows\n",
      "\n"
     ]
    }
   ],
   "source": [
    "columns = df.columns\n",
    "cols_to_remove = ['End_Lat','End_Lng', 'Wind_Chill(F)', 'Precipitation(in)']\n",
    "cols_to_drop = [c for c in columns if c not in cols_to_remove ]\n",
    "\n",
    "df_cleaned_subset = df.dropna(subset=cols_to_drop)\n",
    "\n",
    "df_cleaned_subset.show()"
   ]
  },
  {
   "cell_type": "code",
   "execution_count": 9,
   "metadata": {},
   "outputs": [
    {
     "name": "stderr",
     "output_type": "stream",
     "text": [
      "                                                                                \r"
     ]
    },
    {
     "data": {
      "text/plain": [
       "7051556"
      ]
     },
     "execution_count": 9,
     "metadata": {},
     "output_type": "execute_result"
    }
   ],
   "source": [
    "df_cleaned_subset.count()"
   ]
  },
  {
   "cell_type": "code",
   "execution_count": 10,
   "metadata": {},
   "outputs": [
    {
     "name": "stdout",
     "output_type": "stream",
     "text": [
      "+-----+-------+--------+-------------------+-------------------+------------------+------------------+-------+-------+------------+--------------------+----------------+-----------+----------+-----+----------+-------+----------+------------+-------------------+--------------+-------------+-----------+------------+--------------+--------------+---------------+-----------------+-----------------+-------+-----+--------+--------+--------+-------+-------+----------+-------+-----+---------------+--------------+------------+--------------+--------------+-----------------+---------------------+\n",
      "|   ID| Source|Severity|         Start_Time|           End_Time|         Start_Lat|         Start_Lng|End_Lat|End_Lng|Distance(mi)|         Description|          Street|       City|    County|State|   Zipcode|Country|  Timezone|Airport_Code|  Weather_Timestamp|Temperature(F)|Wind_Chill(F)|Humidity(%)|Pressure(in)|Visibility(mi)|Wind_Direction|Wind_Speed(mph)|Precipitation(in)|Weather_Condition|Amenity| Bump|Crossing|Give_Way|Junction|No_Exit|Railway|Roundabout|Station| Stop|Traffic_Calming|Traffic_Signal|Turning_Loop|Sunrise_Sunset|Civil_Twilight|Nautical_Twilight|Astronomical_Twilight|\n",
      "+-----+-------+--------+-------------------+-------------------+------------------+------------------+-------+-------+------------+--------------------+----------------+-----------+----------+-----+----------+-------+----------+------------+-------------------+--------------+-------------+-----------+------------+--------------+--------------+---------------+-----------------+-----------------+-------+-----+--------+--------+--------+-------+-------+----------+-------+-----+---------------+--------------+------------+--------------+--------------+-----------------+---------------------+\n",
      "| A-11|Source2|       3|2016-02-08 08:14:42|2016-02-08 08:44:42|         39.952812|        -83.119293|   NULL|   NULL|        0.01|Accident on I-270...|     Outerbelt S|   Columbus|  Franklin|   OH|     43228|     US|US/Eastern|        KTZR|2016-02-08 07:50:00|          35.6|         30.7|       93.0|       29.64|           5.0|           WNW|            5.8|             NULL|             Rain|  false|false|    true|   false|    true|  false|  false|     false|  false|false|          false|         false|       false|           Day|           Day|              Day|                  Day|\n",
      "| A-15|Source2|       2|2016-02-08 08:39:43|2016-02-08 09:09:43|         39.972038|        -82.913521|   NULL|   NULL|        0.01|Accident on OH-16...|      E Broad St|   Columbus|  Franklin|   OH|43213-1006|     US|US/Eastern|        KCMH|2016-02-08 08:28:00|          37.4|         33.8|      100.0|       29.62|           3.0|           SSW|            4.6|             0.02|       Light Rain|  false|false|   false|   false|   false|  false|  false|     false|  false|false|          false|          true|       false|           Day|           Day|              Day|                  Day|\n",
      "| A-19|Source2|       2|2016-02-08 09:25:17|2016-02-08 09:55:17|         39.740669|        -84.184135|   NULL|   NULL|        0.01|Accident on Stewa...|      Rubicon St|     Dayton|Montgomery|   OH|45409-2659|     US|US/Eastern|        KFFO|2016-02-08 09:38:00|          37.4|         32.1|       93.0|       29.63|          10.0|           WSW|            6.9|             NULL|         Overcast|  false|false|    true|   false|   false|  false|  false|     false|  false|false|          false|          true|       false|           Day|           Day|              Day|                  Day|\n",
      "| A-23|Source2|       2|2016-02-08 11:53:19|2016-02-08 12:23:19|         39.628288|        -84.226151|   NULL|   NULL|        0.01|Accident on OH-74...| Springboro Pike| Miamisburg|Montgomery|   OH|     45342|     US|US/Eastern|        KMGY|2016-02-08 11:53:00|          35.1|         28.6|       89.0|       29.65|           6.0|           WSW|            8.1|             0.02|         Overcast|  false|false|   false|   false|   false|  false|  false|     false|  false|false|          false|          true|       false|           Day|           Day|              Day|                  Day|\n",
      "| A-43|Source2|       2|2016-02-09 05:56:10|2016-02-09 06:26:10|         39.426277|        -83.624611|   NULL|   NULL|        0.01|Accident on OH-72...|S State Route 72|     Sabina|   Clinton|   OH|     45169|     US|US/Eastern|        KILN|2016-02-09 05:54:00|          19.9|          6.7|       89.0|       29.75|           1.8|           WSW|           13.8|              0.0|       Light Snow|  false|false|   false|   false|   false|  false|  false|     false|  false|false|          false|         false|       false|         Night|         Night|            Night|                Night|\n",
      "| A-51|Source2|       2|2016-02-09 06:48:18|2016-02-09 07:18:18|          39.77858|-84.20468100000002|   NULL|   NULL|        0.01|Accident on OH-48...|       N Main St|     Dayton|Montgomery|   OH|45405-4141|     US|US/Eastern|        KDAY|2016-02-09 06:56:00|          21.9|          9.8|       92.0|       29.71|           2.0|           WSW|           12.7|             0.01|       Light Snow|  false|false|   false|   false|   false|  false|  false|     false|  false|false|          false|         false|       false|         Night|         Night|              Day|                  Day|\n",
      "| A-57|Source2|       2|2016-02-09 07:15:41|2016-02-09 07:45:41|         39.746593|         -84.23912|   NULL|   NULL|        0.01|Accident on McCal...|    Dearborn Ave|     Dayton|Montgomery|   OH|45417-2002|     US|US/Eastern|        KDAY|2016-02-09 07:08:00|          21.9|          9.8|       92.0|       29.68|           2.0|           WSW|           12.7|              0.0|       Light Snow|  false|false|   false|   false|   false|  false|  false|     false|  false|false|          false|          true|       false|         Night|           Day|              Day|                  Day|\n",
      "| A-58|Source2|       2|2016-02-09 07:41:01|2016-02-09 08:11:01|         39.742783|        -84.182472|   NULL|   NULL|        0.01|Accident on Brown...|        Brown St|     Dayton|Montgomery|   OH|45409-2602|     US|US/Eastern|        KFFO|2016-02-09 07:58:00|          22.5|         12.4|       90.0|       29.73|           1.2|            SW|            9.2|              0.0|       Light Snow|   true|false|   false|   false|   false|  false|  false|     false|  false|false|          false|         false|       false|           Day|           Day|              Day|                  Day|\n",
      "| A-63|Source2|       2|2016-02-09 08:06:39|2016-02-09 08:36:39|39.492484999999995|        -84.131798|   NULL|   NULL|        0.01|Accident on US-42...|N State Route 42|Waynesville|    Warren|   OH|45068-9388|     US|US/Eastern|        KMGY|2016-02-09 08:14:00|          21.0|         10.6|       81.0|        29.7|           1.2|           WSW|            9.2|              0.0|       Light Snow|  false|false|   false|   false|   false|  false|  false|     false|  false|false|          false|         false|       false|           Day|           Day|              Day|                  Day|\n",
      "| A-66|Source2|       3|2016-02-09 08:23:36|2016-02-09 08:53:36|         39.622787|        -84.229858|   NULL|   NULL|        0.01|Accident on I-75 ...|          I-75 N| Miamisburg|Montgomery|   OH|     45342|     US|US/Eastern|        KMGY|2016-02-09 08:14:00|          21.0|         10.6|       81.0|        29.7|           1.2|           WSW|            9.2|              0.0|       Light Snow|  false|false|   false|   false|   false|  false|  false|     false|  false|false|          false|         false|       false|           Day|           Day|              Day|                  Day|\n",
      "| A-75|Source2|       2|2016-02-10 06:53:02|2016-02-10 07:23:02|         39.814526|        -84.021744|   NULL|   NULL|        0.01|Accident on OH-44...|   S Central Ave|   Fairborn|    Greene|   OH|     45324|     US|US/Eastern|        KFFO|2016-02-10 06:58:00|          15.4|          1.0|       82.0|       29.95|           7.0|            SW|           13.8|              0.0|       Light Snow|  false|false|    true|   false|   false|  false|   true|     false|  false|false|          false|         false|       false|         Night|         Night|              Day|                  Day|\n",
      "|A-110|Source2|       2|2016-02-11 10:53:56|2016-02-11 11:23:56|          39.64185|        -84.227455|   NULL|   NULL|         0.0|Accident on Summi...|   Mall Woods Dr|     Dayton|Montgomery|   OH|45449-3625|     US|US/Eastern|        KMGY|2016-02-11 10:53:00|          18.0|          8.7|       54.0|       30.31|          10.0|           WNW|            6.9|             NULL|            Clear|  false|false|   false|   false|   false|  false|  false|     false|  false|false|          false|         false|       false|           Day|           Day|              Day|                  Day|\n",
      "|A-115|Source2|       2|2016-02-11 14:16:49|2016-02-11 14:46:49|         39.759426|        -84.138367|   NULL|   NULL|        0.01|Accident on Smith...|      Speice Ave|     Dayton|Montgomery|   OH|45403-3130|     US|US/Eastern|        KFFO|2016-02-11 13:58:00|          21.6|         13.0|       49.0|        30.3|          10.0|          West|            6.9|             NULL|    Mostly Cloudy|  false|false|   false|   false|   false|  false|  false|     false|  false|false|          false|         false|       false|           Day|           Day|              Day|                  Day|\n",
      "|A-116|Source2|       2|2016-02-11 15:34:06|2016-02-11 16:19:06| 39.78361500000001|        -84.227531|   NULL|   NULL|         0.0|Accident on Aubur...|      Auburn Ave|     Dayton|Montgomery|   OH|45406-5615|     US|US/Eastern|        KDAY|2016-02-11 15:56:00|          21.0|         14.6|       57.0|       30.32|          10.0|           WNW|            4.6|             NULL|    Mostly Cloudy|  false|false|   false|   false|   false|  false|  false|     false|  false|false|          false|         false|       false|           Day|           Day|              Day|                  Day|\n",
      "|A-125|Source2|       3|2016-02-12 17:47:41|2016-02-12 18:52:13|40.109928000000004|-82.97820300000002|   NULL|   NULL|        1.67|Three lanes block...|     North Fwy S|   Columbus|  Franklin|   OH|     43229|     US|US/Eastern|        KOSU|2016-02-12 17:50:00|          23.0|         11.1|       80.0|       30.03|           3.0|          West|           12.7|              0.0|       Light Snow|  false|false|   false|   false|    true|  false|  false|     false|  false|false|          false|         false|       false|           Day|           Day|              Day|                  Day|\n",
      "|A-138|Source2|       3|2016-02-14 10:41:57|2016-02-14 11:11:57|         39.973812|        -82.983162|   NULL|   NULL|        0.01|Lane blocked due ...|         I-670 E|   Columbus|  Franklin|   OH|     43203|     US|US/Eastern|        KCMH|2016-02-14 10:51:00|          12.9|         -0.2|       65.0|        30.5|          10.0|           SSE|           10.4|             NULL| Scattered Clouds|  false|false|   false|   false|   false|  false|  false|     false|  false|false|          false|         false|       false|           Day|           Day|              Day|                  Day|\n",
      "|A-162|Source2|       2|2016-02-15 12:34:50|2016-02-15 13:19:50|         39.740063|        -84.191833|   NULL|   NULL|        0.01|Accident on Stewa...|    W Stewart St|     Dayton|Montgomery|   OH|     45402|     US|US/Eastern|        KFFO|2016-02-15 12:27:00|          32.0|         26.4|      100.0|       29.98|           4.0|         South|            5.8|             NULL|         Overcast|  false|false|    true|   false|   false|  false|  false|     false|  false|false|          false|          true|       false|           Day|           Day|              Day|                  Day|\n",
      "|A-165|Source2|       2|2016-02-15 18:27:18|2016-02-15 19:12:18|         39.887058|        -82.883263|   NULL|   NULL|        0.01|Accident on OH-31...|     Williams Rd|  Groveport|  Franklin|   OH|     43125|     US|US/Eastern|        KLCK|2016-02-15 18:35:00|          33.6|         30.6|       94.0|       29.86|           7.0|          East|            3.5|             NULL|    Light Drizzle|  false|false|   false|   false|   false|  false|  false|     false|  false|false|          false|          true|       false|         Night|           Day|              Day|                  Day|\n",
      "|A-183|Source2|       2|2016-02-16 07:12:17|2016-02-16 07:42:17| 39.89188400000001|        -83.087547|   NULL|   NULL|        0.01|Accident on South...|  Southwest Blvd| Grove City|  Franklin|   OH|43123-2251|     US|US/Eastern|        KTZR|2016-02-16 07:25:00|          32.0|         25.6|      100.0|       29.72|           3.0|           NNW|            6.9|             NULL|         Overcast|  false|false|   false|   false|   false|  false|  false|     false|  false|false|          false|         false|       false|         Night|           Day|              Day|                  Day|\n",
      "|A-199|Source2|       2|2016-02-16 11:11:35|2016-02-16 11:41:35| 39.76244000000001|-84.20506999999998|   NULL|   NULL|        0.01|Accident on River...|       Salem Ave|     Dayton|Montgomery|   OH|     45406|     US|US/Eastern|        KDAY|2016-02-16 11:06:00|          30.0|         24.1|       92.0|       29.82|           1.8|            NW|            5.8|              0.0|       Light Snow|  false|false|    true|   false|   false|  false|  false|     false|  false|false|          false|          true|       false|           Day|           Day|              Day|                  Day|\n",
      "+-----+-------+--------+-------------------+-------------------+------------------+------------------+-------+-------+------------+--------------------+----------------+-----------+----------+-----+----------+-------+----------+------------+-------------------+--------------+-------------+-----------+------------+--------------+--------------+---------------+-----------------+-----------------+-------+-----+--------+--------+--------+-------+-------+----------+-------+-----+---------------+--------------+------------+--------------+--------------+-----------------+---------------------+\n",
      "only showing top 20 rows\n",
      "\n"
     ]
    }
   ],
   "source": [
    "sampled_df = df_cleaned_subset.sample(withReplacement=False, fraction=0.1)\n",
    "\n",
    "sampled_df.show()"
   ]
  },
  {
   "cell_type": "markdown",
   "metadata": {},
   "source": [
    "## Análise Exploratória"
   ]
  },
  {
   "cell_type": "code",
   "execution_count": 11,
   "metadata": {},
   "outputs": [],
   "source": [
    "def barplot(data, builder, table_name, query, hue=False):\n",
    "\n",
    "    data.createOrReplaceTempView(f\"{table_name}\")\n",
    "\n",
    "    data_agg = builder.sql(\n",
    "        query\n",
    "    )\n",
    "\n",
    "    data_agg_toPandas = data_agg.toPandas()\n",
    "\n",
    "    if hue:\n",
    "        return sns.barplot(data=data_agg_toPandas, x = data_agg_toPandas[data_agg_toPandas.columns[0]], y = data_agg_toPandas[data_agg_toPandas.columns[-1]], hue = data_agg_toPandas[data_agg_toPandas.columns[1]])\n",
    "    else:\n",
    "        return sns.barplot(data=data_agg_toPandas, x = data_agg_toPandas[data_agg_toPandas.columns[0]], y = data_agg_toPandas[data_agg_toPandas.columns[-1]])"
   ]
  },
  {
   "cell_type": "code",
   "execution_count": 58,
   "metadata": {},
   "outputs": [],
   "source": [
    "def histplot(data, builder, table_name, query, hue=False):\n",
    "\n",
    "    data.createOrReplaceTempView(f\"{table_name}\")\n",
    "\n",
    "    data_agg = builder.sql(\n",
    "        query\n",
    "    )\n",
    "\n",
    "    data_agg_toPandas = data_agg.toPandas()\n",
    "\n",
    "    if hue:\n",
    "        return sns.histplot(data=data_agg_toPandas, x = data_agg_toPandas[data_agg_toPandas.columns[0]], hue = data_agg_toPandas[data_agg_toPandas.columns[1]], multiple = 'fill')\n",
    "    else:\n",
    "        return sns.histplot(data=data_agg_toPandas, x = data_agg_toPandas[data_agg_toPandas.columns[0]], multiple='fill')"
   ]
  },
  {
   "cell_type": "code",
   "execution_count": 13,
   "metadata": {},
   "outputs": [
    {
     "name": "stderr",
     "output_type": "stream",
     "text": [
      "                                                                                \r"
     ]
    },
    {
     "data": {
      "text/plain": [
       "<Axes: xlabel='Severity', ylabel='count(1)'>"
      ]
     },
     "execution_count": 13,
     "metadata": {},
     "output_type": "execute_result"
    },
    {
     "data": {
      "image/png": "[encoded data removed]",
      "text/plain": [
       "<Figure size 640x480 with 1 Axes>"
      ]
     },
     "metadata": {},
     "output_type": "display_data"
    }
   ],
   "source": [
    "barplot(\n",
    "    data = sampled_df,\n",
    "    builder = spark,\n",
    "    table_name= 'acidents',\n",
    "    query = '''\n",
    "        SELECT\n",
    "            Severity,\n",
    "            COUNT(*)\n",
    "        FROM acidents\n",
    "        GROUP BY 1\n",
    "        ORDER BY 1\n",
    "    ''',\n",
    "    hue=True)"
   ]
  },
  {
   "cell_type": "code",
   "execution_count": 19,
   "metadata": {},
   "outputs": [
    {
     "name": "stderr",
     "output_type": "stream",
     "text": [
      "                                                                                \r"
     ]
    },
    {
     "data": {
      "text/plain": [
       "<Axes: xlabel='wind', ylabel='Density'>"
      ]
     },
     "execution_count": 19,
     "metadata": {},
     "output_type": "execute_result"
    },
    {
     "data": {
      "image/png": "[encoded data removed]",
      "text/plain": [
       "<Figure size 640x480 with 1 Axes>"
      ]
     },
     "metadata": {},
     "output_type": "display_data"
    }
   ],
   "source": [
    "histplot(\n",
    "    data = sampled_df,\n",
    "    builder = spark,\n",
    "    table_name= 'acidents',\n",
    "    query = '''\n",
    "    SELECT\n",
    "        ROUND(`Wind_Chill(F)`,0) AS wind,\n",
    "        Severity\n",
    "    FROM acidents\n",
    "    ORDER BY 1\n",
    "    ''',\n",
    "    hue=True)"
   ]
  },
  {
   "cell_type": "code",
   "execution_count": 22,
   "metadata": {},
   "outputs": [
    {
     "name": "stdout",
     "output_type": "stream",
     "text": [
      "+-----+-------+--------+-------------------+-------------------+------------------+------------------+-------+-------+------------+--------------------+----------------+-----------+----------+-----+----------+-------+----------+------------+-------------------+--------------+-------------+-----------+------------+--------------+--------------+---------------+-----------------+-----------------+-------+-----+--------+--------+--------+-------+-------+----------+-------+-----+---------------+--------------+------------+--------------+--------------+-----------------+---------------------+\n",
      "|   ID| Source|Severity|         Start_Time|           End_Time|         Start_Lat|         Start_Lng|End_Lat|End_Lng|Distance(mi)|         Description|          Street|       City|    County|State|   Zipcode|Country|  Timezone|Airport_Code|  Weather_Timestamp|Temperature(F)|Wind_Chill(F)|Humidity(%)|Pressure(in)|Visibility(mi)|Wind_Direction|Wind_Speed(mph)|Precipitation(in)|Weather_Condition|Amenity| Bump|Crossing|Give_Way|Junction|No_Exit|Railway|Roundabout|Station| Stop|Traffic_Calming|Traffic_Signal|Turning_Loop|Sunrise_Sunset|Civil_Twilight|Nautical_Twilight|Astronomical_Twilight|\n",
      "+-----+-------+--------+-------------------+-------------------+------------------+------------------+-------+-------+------------+--------------------+----------------+-----------+----------+-----+----------+-------+----------+------------+-------------------+--------------+-------------+-----------+------------+--------------+--------------+---------------+-----------------+-----------------+-------+-----+--------+--------+--------+-------+-------+----------+-------+-----+---------------+--------------+------------+--------------+--------------+-----------------+---------------------+\n",
      "| A-11|Source2|       3|2016-02-08 08:14:42|2016-02-08 08:44:42|         39.952812|        -83.119293|   NULL|   NULL|        0.01|Accident on I-270...|     Outerbelt S|   Columbus|  Franklin|   OH|     43228|     US|US/Eastern|        KTZR|2016-02-08 07:50:00|          35.6|         30.7|       93.0|       29.64|           5.0|           WNW|            5.8|             NULL|             Rain|  false|false|    true|   false|    true|  false|  false|     false|  false|false|          false|         false|       false|           Day|           Day|              Day|                  Day|\n",
      "| A-15|Source2|       2|2016-02-08 08:39:43|2016-02-08 09:09:43|         39.972038|        -82.913521|   NULL|   NULL|        0.01|Accident on OH-16...|      E Broad St|   Columbus|  Franklin|   OH|43213-1006|     US|US/Eastern|        KCMH|2016-02-08 08:28:00|          37.4|         33.8|      100.0|       29.62|           3.0|           SSW|            4.6|             0.02|       Light Rain|  false|false|   false|   false|   false|  false|  false|     false|  false|false|          false|          true|       false|           Day|           Day|              Day|                  Day|\n",
      "| A-19|Source2|       2|2016-02-08 09:25:17|2016-02-08 09:55:17|         39.740669|        -84.184135|   NULL|   NULL|        0.01|Accident on Stewa...|      Rubicon St|     Dayton|Montgomery|   OH|45409-2659|     US|US/Eastern|        KFFO|2016-02-08 09:38:00|          37.4|         32.1|       93.0|       29.63|          10.0|           WSW|            6.9|             NULL|         Overcast|  false|false|    true|   false|   false|  false|  false|     false|  false|false|          false|          true|       false|           Day|           Day|              Day|                  Day|\n",
      "| A-23|Source2|       2|2016-02-08 11:53:19|2016-02-08 12:23:19|         39.628288|        -84.226151|   NULL|   NULL|        0.01|Accident on OH-74...| Springboro Pike| Miamisburg|Montgomery|   OH|     45342|     US|US/Eastern|        KMGY|2016-02-08 11:53:00|          35.1|         28.6|       89.0|       29.65|           6.0|           WSW|            8.1|             0.02|         Overcast|  false|false|   false|   false|   false|  false|  false|     false|  false|false|          false|          true|       false|           Day|           Day|              Day|                  Day|\n",
      "| A-43|Source2|       2|2016-02-09 05:56:10|2016-02-09 06:26:10|         39.426277|        -83.624611|   NULL|   NULL|        0.01|Accident on OH-72...|S State Route 72|     Sabina|   Clinton|   OH|     45169|     US|US/Eastern|        KILN|2016-02-09 05:54:00|          19.9|          6.7|       89.0|       29.75|           1.8|           WSW|           13.8|              0.0|       Light Snow|  false|false|   false|   false|   false|  false|  false|     false|  false|false|          false|         false|       false|         Night|         Night|            Night|                Night|\n",
      "| A-51|Source2|       2|2016-02-09 06:48:18|2016-02-09 07:18:18|          39.77858|-84.20468100000002|   NULL|   NULL|        0.01|Accident on OH-48...|       N Main St|     Dayton|Montgomery|   OH|45405-4141|     US|US/Eastern|        KDAY|2016-02-09 06:56:00|          21.9|          9.8|       92.0|       29.71|           2.0|           WSW|           12.7|             0.01|       Light Snow|  false|false|   false|   false|   false|  false|  false|     false|  false|false|          false|         false|       false|         Night|         Night|              Day|                  Day|\n",
      "| A-57|Source2|       2|2016-02-09 07:15:41|2016-02-09 07:45:41|         39.746593|         -84.23912|   NULL|   NULL|        0.01|Accident on McCal...|    Dearborn Ave|     Dayton|Montgomery|   OH|45417-2002|     US|US/Eastern|        KDAY|2016-02-09 07:08:00|          21.9|          9.8|       92.0|       29.68|           2.0|           WSW|           12.7|              0.0|       Light Snow|  false|false|   false|   false|   false|  false|  false|     false|  false|false|          false|          true|       false|         Night|           Day|              Day|                  Day|\n",
      "| A-58|Source2|       2|2016-02-09 07:41:01|2016-02-09 08:11:01|         39.742783|        -84.182472|   NULL|   NULL|        0.01|Accident on Brown...|        Brown St|     Dayton|Montgomery|   OH|45409-2602|     US|US/Eastern|        KFFO|2016-02-09 07:58:00|          22.5|         12.4|       90.0|       29.73|           1.2|            SW|            9.2|              0.0|       Light Snow|   true|false|   false|   false|   false|  false|  false|     false|  false|false|          false|         false|       false|           Day|           Day|              Day|                  Day|\n",
      "| A-63|Source2|       2|2016-02-09 08:06:39|2016-02-09 08:36:39|39.492484999999995|        -84.131798|   NULL|   NULL|        0.01|Accident on US-42...|N State Route 42|Waynesville|    Warren|   OH|45068-9388|     US|US/Eastern|        KMGY|2016-02-09 08:14:00|          21.0|         10.6|       81.0|        29.7|           1.2|           WSW|            9.2|              0.0|       Light Snow|  false|false|   false|   false|   false|  false|  false|     false|  false|false|          false|         false|       false|           Day|           Day|              Day|                  Day|\n",
      "| A-66|Source2|       3|2016-02-09 08:23:36|2016-02-09 08:53:36|         39.622787|        -84.229858|   NULL|   NULL|        0.01|Accident on I-75 ...|          I-75 N| Miamisburg|Montgomery|   OH|     45342|     US|US/Eastern|        KMGY|2016-02-09 08:14:00|          21.0|         10.6|       81.0|        29.7|           1.2|           WSW|            9.2|              0.0|       Light Snow|  false|false|   false|   false|   false|  false|  false|     false|  false|false|          false|         false|       false|           Day|           Day|              Day|                  Day|\n",
      "| A-75|Source2|       2|2016-02-10 06:53:02|2016-02-10 07:23:02|         39.814526|        -84.021744|   NULL|   NULL|        0.01|Accident on OH-44...|   S Central Ave|   Fairborn|    Greene|   OH|     45324|     US|US/Eastern|        KFFO|2016-02-10 06:58:00|          15.4|          1.0|       82.0|       29.95|           7.0|            SW|           13.8|              0.0|       Light Snow|  false|false|    true|   false|   false|  false|   true|     false|  false|false|          false|         false|       false|         Night|         Night|              Day|                  Day|\n",
      "|A-110|Source2|       2|2016-02-11 10:53:56|2016-02-11 11:23:56|          39.64185|        -84.227455|   NULL|   NULL|         0.0|Accident on Summi...|   Mall Woods Dr|     Dayton|Montgomery|   OH|45449-3625|     US|US/Eastern|        KMGY|2016-02-11 10:53:00|          18.0|          8.7|       54.0|       30.31|          10.0|           WNW|            6.9|             NULL|            Clear|  false|false|   false|   false|   false|  false|  false|     false|  false|false|          false|         false|       false|           Day|           Day|              Day|                  Day|\n",
      "|A-115|Source2|       2|2016-02-11 14:16:49|2016-02-11 14:46:49|         39.759426|        -84.138367|   NULL|   NULL|        0.01|Accident on Smith...|      Speice Ave|     Dayton|Montgomery|   OH|45403-3130|     US|US/Eastern|        KFFO|2016-02-11 13:58:00|          21.6|         13.0|       49.0|        30.3|          10.0|          West|            6.9|             NULL|    Mostly Cloudy|  false|false|   false|   false|   false|  false|  false|     false|  false|false|          false|         false|       false|           Day|           Day|              Day|                  Day|\n",
      "|A-116|Source2|       2|2016-02-11 15:34:06|2016-02-11 16:19:06| 39.78361500000001|        -84.227531|   NULL|   NULL|         0.0|Accident on Aubur...|      Auburn Ave|     Dayton|Montgomery|   OH|45406-5615|     US|US/Eastern|        KDAY|2016-02-11 15:56:00|          21.0|         14.6|       57.0|       30.32|          10.0|           WNW|            4.6|             NULL|    Mostly Cloudy|  false|false|   false|   false|   false|  false|  false|     false|  false|false|          false|         false|       false|           Day|           Day|              Day|                  Day|\n",
      "|A-125|Source2|       3|2016-02-12 17:47:41|2016-02-12 18:52:13|40.109928000000004|-82.97820300000002|   NULL|   NULL|        1.67|Three lanes block...|     North Fwy S|   Columbus|  Franklin|   OH|     43229|     US|US/Eastern|        KOSU|2016-02-12 17:50:00|          23.0|         11.1|       80.0|       30.03|           3.0|          West|           12.7|              0.0|       Light Snow|  false|false|   false|   false|    true|  false|  false|     false|  false|false|          false|         false|       false|           Day|           Day|              Day|                  Day|\n",
      "|A-138|Source2|       3|2016-02-14 10:41:57|2016-02-14 11:11:57|         39.973812|        -82.983162|   NULL|   NULL|        0.01|Lane blocked due ...|         I-670 E|   Columbus|  Franklin|   OH|     43203|     US|US/Eastern|        KCMH|2016-02-14 10:51:00|          12.9|         -0.2|       65.0|        30.5|          10.0|           SSE|           10.4|             NULL| Scattered Clouds|  false|false|   false|   false|   false|  false|  false|     false|  false|false|          false|         false|       false|           Day|           Day|              Day|                  Day|\n",
      "|A-162|Source2|       2|2016-02-15 12:34:50|2016-02-15 13:19:50|         39.740063|        -84.191833|   NULL|   NULL|        0.01|Accident on Stewa...|    W Stewart St|     Dayton|Montgomery|   OH|     45402|     US|US/Eastern|        KFFO|2016-02-15 12:27:00|          32.0|         26.4|      100.0|       29.98|           4.0|         South|            5.8|             NULL|         Overcast|  false|false|    true|   false|   false|  false|  false|     false|  false|false|          false|          true|       false|           Day|           Day|              Day|                  Day|\n",
      "|A-165|Source2|       2|2016-02-15 18:27:18|2016-02-15 19:12:18|         39.887058|        -82.883263|   NULL|   NULL|        0.01|Accident on OH-31...|     Williams Rd|  Groveport|  Franklin|   OH|     43125|     US|US/Eastern|        KLCK|2016-02-15 18:35:00|          33.6|         30.6|       94.0|       29.86|           7.0|          East|            3.5|             NULL|    Light Drizzle|  false|false|   false|   false|   false|  false|  false|     false|  false|false|          false|          true|       false|         Night|           Day|              Day|                  Day|\n",
      "|A-183|Source2|       2|2016-02-16 07:12:17|2016-02-16 07:42:17| 39.89188400000001|        -83.087547|   NULL|   NULL|        0.01|Accident on South...|  Southwest Blvd| Grove City|  Franklin|   OH|43123-2251|     US|US/Eastern|        KTZR|2016-02-16 07:25:00|          32.0|         25.6|      100.0|       29.72|           3.0|           NNW|            6.9|             NULL|         Overcast|  false|false|   false|   false|   false|  false|  false|     false|  false|false|          false|         false|       false|         Night|           Day|              Day|                  Day|\n",
      "|A-199|Source2|       2|2016-02-16 11:11:35|2016-02-16 11:41:35| 39.76244000000001|-84.20506999999998|   NULL|   NULL|        0.01|Accident on River...|       Salem Ave|     Dayton|Montgomery|   OH|     45406|     US|US/Eastern|        KDAY|2016-02-16 11:06:00|          30.0|         24.1|       92.0|       29.82|           1.8|            NW|            5.8|              0.0|       Light Snow|  false|false|    true|   false|   false|  false|  false|     false|  false|false|          false|          true|       false|           Day|           Day|              Day|                  Day|\n",
      "+-----+-------+--------+-------------------+-------------------+------------------+------------------+-------+-------+------------+--------------------+----------------+-----------+----------+-----+----------+-------+----------+------------+-------------------+--------------+-------------+-----------+------------+--------------+--------------+---------------+-----------------+-----------------+-------+-----+--------+--------+--------+-------+-------+----------+-------+-----+---------------+--------------+------------+--------------+--------------+-----------------+---------------------+\n",
      "only showing top 20 rows\n",
      "\n"
     ]
    }
   ],
   "source": [
    "sampled_df.show()"
   ]
  },
  {
   "cell_type": "code",
   "execution_count": 24,
   "metadata": {},
   "outputs": [],
   "source": [
    "potencial_columns = [\n",
    "'ID',\n",
    " 'Severity',\n",
    " 'Start_Time',\n",
    " 'End_Time',\n",
    " 'Zipcode',\n",
    " 'Weather_Timestamp',\n",
    " 'Temperature(F)',\n",
    " 'Wind_Chill(F)',\n",
    " 'Humidity(%)',\n",
    " 'Pressure(in)',\n",
    " 'Visibility(mi)',\n",
    " 'Wind_Direction',\n",
    " 'Wind_Speed(mph)',\n",
    " 'Precipitation(in)',\n",
    " 'Weather_Condition',\n",
    " 'Amenity',\n",
    " 'Bump',\n",
    " 'Crossing',\n",
    " 'Give_Way',\n",
    " 'Junction',\n",
    " 'No_Exit',\n",
    " 'Railway',\n",
    " 'Roundabout',\n",
    " 'Station',\n",
    " 'Stop',\n",
    " 'Traffic_Calming',\n",
    " 'Traffic_Signal',\n",
    " 'Turning_Loop',\n",
    " 'Sunrise_Sunset',\n",
    " 'Civil_Twilight',\n",
    " 'Nautical_Twilight',\n",
    " 'Astronomical_Twilight'\n",
    " ]"
   ]
  },
  {
   "cell_type": "markdown",
   "metadata": {},
   "source": [
    "## Feature Engeneering"
   ]
  },
  {
   "cell_type": "code",
   "execution_count": 40,
   "metadata": {},
   "outputs": [],
   "source": [
    "sampled_select_columns = sampled_df.select(*potencial_columns)"
   ]
  },
  {
   "cell_type": "code",
   "execution_count": 52,
   "metadata": {},
   "outputs": [],
   "source": [
    "# Extrai o dia da semana\n",
    "sampled_select_columns = sampled_select_columns.withColumn(\"day_of_week\", date_format(col(\"Start_Time\"), \"F\"))\n",
    "\n",
    "# Extrai a hora do dia\n",
    "sampled_select_columns = sampled_select_columns.withColumn(\"hour_of_day\", hour(col(\"Start_Time\")))"
   ]
  },
  {
   "cell_type": "code",
   "execution_count": 53,
   "metadata": {},
   "outputs": [
    {
     "name": "stdout",
     "output_type": "stream",
     "text": [
      "+-----+--------+-------------------+-------------------+----------+-------------------+--------------+-------------+-----------+------------+--------------+--------------+---------------+-----------------+-----------------+-------+-----+--------+--------+--------+-------+-------+----------+-------+-----+---------------+--------------+------------+--------------+--------------+-----------------+---------------------+-----------+-----------+\n",
      "|   ID|Severity|         Start_Time|           End_Time|   Zipcode|  Weather_Timestamp|Temperature(F)|Wind_Chill(F)|Humidity(%)|Pressure(in)|Visibility(mi)|Wind_Direction|Wind_Speed(mph)|Precipitation(in)|Weather_Condition|Amenity| Bump|Crossing|Give_Way|Junction|No_Exit|Railway|Roundabout|Station| Stop|Traffic_Calming|Traffic_Signal|Turning_Loop|Sunrise_Sunset|Civil_Twilight|Nautical_Twilight|Astronomical_Twilight|day_of_week|hour_of_day|\n",
      "+-----+--------+-------------------+-------------------+----------+-------------------+--------------+-------------+-----------+------------+--------------+--------------+---------------+-----------------+-----------------+-------+-----+--------+--------+--------+-------+-------+----------+-------+-----+---------------+--------------+------------+--------------+--------------+-----------------+---------------------+-----------+-----------+\n",
      "| A-11|       3|2016-02-08 08:14:42|2016-02-08 08:44:42|     43228|2016-02-08 07:50:00|          35.6|         30.7|       93.0|       29.64|           5.0|           WNW|            5.8|             NULL|             Rain|  false|false|    true|   false|    true|  false|  false|     false|  false|false|          false|         false|       false|           Day|           Day|              Day|                  Day|          1|          8|\n",
      "| A-15|       2|2016-02-08 08:39:43|2016-02-08 09:09:43|43213-1006|2016-02-08 08:28:00|          37.4|         33.8|      100.0|       29.62|           3.0|           SSW|            4.6|             0.02|       Light Rain|  false|false|   false|   false|   false|  false|  false|     false|  false|false|          false|          true|       false|           Day|           Day|              Day|                  Day|          1|          8|\n",
      "| A-19|       2|2016-02-08 09:25:17|2016-02-08 09:55:17|45409-2659|2016-02-08 09:38:00|          37.4|         32.1|       93.0|       29.63|          10.0|           WSW|            6.9|             NULL|         Overcast|  false|false|    true|   false|   false|  false|  false|     false|  false|false|          false|          true|       false|           Day|           Day|              Day|                  Day|          1|          9|\n",
      "| A-23|       2|2016-02-08 11:53:19|2016-02-08 12:23:19|     45342|2016-02-08 11:53:00|          35.1|         28.6|       89.0|       29.65|           6.0|           WSW|            8.1|             0.02|         Overcast|  false|false|   false|   false|   false|  false|  false|     false|  false|false|          false|          true|       false|           Day|           Day|              Day|                  Day|          1|         11|\n",
      "| A-43|       2|2016-02-09 05:56:10|2016-02-09 06:26:10|     45169|2016-02-09 05:54:00|          19.9|          6.7|       89.0|       29.75|           1.8|           WSW|           13.8|              0.0|       Light Snow|  false|false|   false|   false|   false|  false|  false|     false|  false|false|          false|         false|       false|         Night|         Night|            Night|                Night|          2|          5|\n",
      "| A-51|       2|2016-02-09 06:48:18|2016-02-09 07:18:18|45405-4141|2016-02-09 06:56:00|          21.9|          9.8|       92.0|       29.71|           2.0|           WSW|           12.7|             0.01|       Light Snow|  false|false|   false|   false|   false|  false|  false|     false|  false|false|          false|         false|       false|         Night|         Night|              Day|                  Day|          2|          6|\n",
      "| A-57|       2|2016-02-09 07:15:41|2016-02-09 07:45:41|45417-2002|2016-02-09 07:08:00|          21.9|          9.8|       92.0|       29.68|           2.0|           WSW|           12.7|              0.0|       Light Snow|  false|false|   false|   false|   false|  false|  false|     false|  false|false|          false|          true|       false|         Night|           Day|              Day|                  Day|          2|          7|\n",
      "| A-58|       2|2016-02-09 07:41:01|2016-02-09 08:11:01|45409-2602|2016-02-09 07:58:00|          22.5|         12.4|       90.0|       29.73|           1.2|            SW|            9.2|              0.0|       Light Snow|   true|false|   false|   false|   false|  false|  false|     false|  false|false|          false|         false|       false|           Day|           Day|              Day|                  Day|          2|          7|\n",
      "| A-63|       2|2016-02-09 08:06:39|2016-02-09 08:36:39|45068-9388|2016-02-09 08:14:00|          21.0|         10.6|       81.0|        29.7|           1.2|           WSW|            9.2|              0.0|       Light Snow|  false|false|   false|   false|   false|  false|  false|     false|  false|false|          false|         false|       false|           Day|           Day|              Day|                  Day|          2|          8|\n",
      "| A-66|       3|2016-02-09 08:23:36|2016-02-09 08:53:36|     45342|2016-02-09 08:14:00|          21.0|         10.6|       81.0|        29.7|           1.2|           WSW|            9.2|              0.0|       Light Snow|  false|false|   false|   false|   false|  false|  false|     false|  false|false|          false|         false|       false|           Day|           Day|              Day|                  Day|          2|          8|\n",
      "| A-75|       2|2016-02-10 06:53:02|2016-02-10 07:23:02|     45324|2016-02-10 06:58:00|          15.4|          1.0|       82.0|       29.95|           7.0|            SW|           13.8|              0.0|       Light Snow|  false|false|    true|   false|   false|  false|   true|     false|  false|false|          false|         false|       false|         Night|         Night|              Day|                  Day|          3|          6|\n",
      "|A-110|       2|2016-02-11 10:53:56|2016-02-11 11:23:56|45449-3625|2016-02-11 10:53:00|          18.0|          8.7|       54.0|       30.31|          10.0|           WNW|            6.9|             NULL|            Clear|  false|false|   false|   false|   false|  false|  false|     false|  false|false|          false|         false|       false|           Day|           Day|              Day|                  Day|          4|         10|\n",
      "|A-115|       2|2016-02-11 14:16:49|2016-02-11 14:46:49|45403-3130|2016-02-11 13:58:00|          21.6|         13.0|       49.0|        30.3|          10.0|          West|            6.9|             NULL|    Mostly Cloudy|  false|false|   false|   false|   false|  false|  false|     false|  false|false|          false|         false|       false|           Day|           Day|              Day|                  Day|          4|         14|\n",
      "|A-116|       2|2016-02-11 15:34:06|2016-02-11 16:19:06|45406-5615|2016-02-11 15:56:00|          21.0|         14.6|       57.0|       30.32|          10.0|           WNW|            4.6|             NULL|    Mostly Cloudy|  false|false|   false|   false|   false|  false|  false|     false|  false|false|          false|         false|       false|           Day|           Day|              Day|                  Day|          4|         15|\n",
      "|A-125|       3|2016-02-12 17:47:41|2016-02-12 18:52:13|     43229|2016-02-12 17:50:00|          23.0|         11.1|       80.0|       30.03|           3.0|          West|           12.7|              0.0|       Light Snow|  false|false|   false|   false|    true|  false|  false|     false|  false|false|          false|         false|       false|           Day|           Day|              Day|                  Day|          5|         17|\n",
      "|A-138|       3|2016-02-14 10:41:57|2016-02-14 11:11:57|     43203|2016-02-14 10:51:00|          12.9|         -0.2|       65.0|        30.5|          10.0|           SSE|           10.4|             NULL| Scattered Clouds|  false|false|   false|   false|   false|  false|  false|     false|  false|false|          false|         false|       false|           Day|           Day|              Day|                  Day|          7|         10|\n",
      "|A-162|       2|2016-02-15 12:34:50|2016-02-15 13:19:50|     45402|2016-02-15 12:27:00|          32.0|         26.4|      100.0|       29.98|           4.0|         South|            5.8|             NULL|         Overcast|  false|false|    true|   false|   false|  false|  false|     false|  false|false|          false|          true|       false|           Day|           Day|              Day|                  Day|          1|         12|\n",
      "|A-165|       2|2016-02-15 18:27:18|2016-02-15 19:12:18|     43125|2016-02-15 18:35:00|          33.6|         30.6|       94.0|       29.86|           7.0|          East|            3.5|             NULL|    Light Drizzle|  false|false|   false|   false|   false|  false|  false|     false|  false|false|          false|          true|       false|         Night|           Day|              Day|                  Day|          1|         18|\n",
      "|A-183|       2|2016-02-16 07:12:17|2016-02-16 07:42:17|43123-2251|2016-02-16 07:25:00|          32.0|         25.6|      100.0|       29.72|           3.0|           NNW|            6.9|             NULL|         Overcast|  false|false|   false|   false|   false|  false|  false|     false|  false|false|          false|         false|       false|         Night|           Day|              Day|                  Day|          2|          7|\n",
      "|A-199|       2|2016-02-16 11:11:35|2016-02-16 11:41:35|     45406|2016-02-16 11:06:00|          30.0|         24.1|       92.0|       29.82|           1.8|            NW|            5.8|              0.0|       Light Snow|  false|false|    true|   false|   false|  false|  false|     false|  false|false|          false|          true|       false|           Day|           Day|              Day|                  Day|          2|         11|\n",
      "+-----+--------+-------------------+-------------------+----------+-------------------+--------------+-------------+-----------+------------+--------------+--------------+---------------+-----------------+-----------------+-------+-----+--------+--------+--------+-------+-------+----------+-------+-----+---------------+--------------+------------+--------------+--------------+-----------------+---------------------+-----------+-----------+\n",
      "only showing top 20 rows\n",
      "\n"
     ]
    }
   ],
   "source": [
    "sampled_select_columns.show()"
   ]
  },
  {
   "cell_type": "markdown",
   "metadata": {},
   "source": [
    "## Separação do Treino e Teste"
   ]
  },
  {
   "cell_type": "code",
   "execution_count": null,
   "metadata": {},
   "outputs": [],
   "source": []
  },
  {
   "cell_type": "markdown",
   "metadata": {},
   "source": [
    "## Preparar os Dados de Treino\n",
    "- Transformar as categorias \n",
    "- Padronizar, normalizar e etc"
   ]
  },
  {
   "cell_type": "code",
   "execution_count": null,
   "metadata": {},
   "outputs": [],
   "source": []
  },
  {
   "cell_type": "markdown",
   "metadata": {},
   "source": [
    "## Preparar os Dados de Teste"
   ]
  },
  {
   "cell_type": "code",
   "execution_count": null,
   "metadata": {},
   "outputs": [],
   "source": []
  },
  {
   "cell_type": "markdown",
   "metadata": {},
   "source": [
    "## Testar os Modelos\n",
    "\n",
    "- SVM\n",
    "- KNN\n",
    "- Random Forest "
   ]
  },
  {
   "cell_type": "markdown",
   "metadata": {},
   "source": [
    "## Avaliar Modelo\n",
    "- Cross Validation"
   ]
  },
  {
   "cell_type": "markdown",
   "metadata": {},
   "source": [
    "## Avaliar o melhor modelo"
   ]
  }
 ],
 "metadata": {
  "kernelspec": {
   "display_name": "trabalho-pyspark-env",
   "language": "python",
   "name": "python3"
  },
  "language_info": {
   "codemirror_mode": {
    "name": "ipython",
    "version": 3
   },
   "file_extension": ".py",
   "mimetype": "text/x-python",
   "name": "python",
   "nbconvert_exporter": "python",
   "pygments_lexer": "ipython3",
   "version": "3.12.3"
  }
 },
 "nbformat": 4,
 "nbformat_minor": 2
}
